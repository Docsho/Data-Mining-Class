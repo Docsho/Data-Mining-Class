{
 "cells": [
  {
   "cell_type": "markdown",
   "id": "83de5e87-2583-468c-871f-d2825536a30d",
   "metadata": {},
   "source": [
    "## Fundamentals"
   ]
  },
  {
   "cell_type": "markdown",
   "id": "dc83ee6e-165e-466b-b3eb-de97863453ae",
   "metadata": {},
   "source": [
    "<b>Variables and Data Types</b>"
   ]
  },
  {
   "cell_type": "code",
   "execution_count": 16,
   "id": "42ca03c4-ac7a-4496-abb4-caa9486611a0",
   "metadata": {},
   "outputs": [
    {
     "data": {
      "text/plain": [
       "'Nouhr'"
      ]
     },
     "execution_count": 16,
     "metadata": {},
     "output_type": "execute_result"
    }
   ],
   "source": [
    "name=\"Nouhr\"\n",
    "name"
   ]
  },
  {
   "cell_type": "code",
   "execution_count": 17,
   "id": "2feef98b-aba4-4b5a-a2e8-4bcf54409207",
   "metadata": {},
   "outputs": [
    {
     "data": {
      "text/plain": [
       "5"
      ]
     },
     "execution_count": 17,
     "metadata": {},
     "output_type": "execute_result"
    }
   ],
   "source": [
    "num1=2\n",
    "num2=3\n",
    "num1+num2"
   ]
  },
  {
   "cell_type": "code",
   "execution_count": 18,
   "id": "dca4c7b1-0863-4b8b-b6e8-073ffd1b2bf0",
   "metadata": {},
   "outputs": [
    {
     "data": {
      "text/plain": [
       "bool"
      ]
     },
     "execution_count": 18,
     "metadata": {},
     "output_type": "execute_result"
    }
   ],
   "source": [
    "is_student=True\n",
    "type(is_student)"
   ]
  },
  {
   "cell_type": "code",
   "execution_count": 19,
   "id": "f3ce8bab-29be-4b9c-a529-84d584a5650f",
   "metadata": {},
   "outputs": [
    {
     "name": "stdin",
     "output_type": "stream",
     "text": [
      "Enter your age 2\n"
     ]
    },
    {
     "data": {
      "text/plain": [
       "2"
      ]
     },
     "execution_count": 19,
     "metadata": {},
     "output_type": "execute_result"
    }
   ],
   "source": [
    "int(input(\"Enter your age\"))"
   ]
  },
  {
   "cell_type": "code",
   "execution_count": 20,
   "id": "e08de782-7928-4c47-b3d3-f7b85fb84fca",
   "metadata": {},
   "outputs": [
    {
     "data": {
      "text/plain": [
       "123"
      ]
     },
     "execution_count": 20,
     "metadata": {},
     "output_type": "execute_result"
    }
   ],
   "source": [
    "x=int(\"123\")\n",
    "x"
   ]
  },
  {
   "cell_type": "code",
   "execution_count": 22,
   "id": "5a263e0b-9fa5-4f79-8e87-eb257ba08a21",
   "metadata": {},
   "outputs": [
    {
     "data": {
      "text/plain": [
       "19"
      ]
     },
     "execution_count": 22,
     "metadata": {},
     "output_type": "execute_result"
    }
   ],
   "source": [
    "price=19.99 \n",
    "x=int(price)\n",
    "x"
   ]
  },
  {
   "cell_type": "code",
   "execution_count": 24,
   "id": "b915ef42-5244-4393-a4af-071689c41b25",
   "metadata": {},
   "outputs": [
    {
     "name": "stdout",
     "output_type": "stream",
     "text": [
      "fygvbh\n",
      "cfgvbn\n",
      "vhjbkn\n"
     ]
    }
   ],
   "source": [
    "print(\"\"\"fygvbh\n",
    "cfgvbn\n",
    "vhjbkn\"\"\")"
   ]
  },
  {
   "cell_type": "code",
   "execution_count": 26,
   "id": "9f267349-bade-4d32-b2a0-3030e6600a4d",
   "metadata": {},
   "outputs": [
    {
     "data": {
      "text/plain": [
       "'hello hello hello hello hello hello hello hello hello hello '"
      ]
     },
     "execution_count": 26,
     "metadata": {},
     "output_type": "execute_result"
    }
   ],
   "source": [
    "x=\"hello \"\n",
    "x*10"
   ]
  },
  {
   "cell_type": "code",
   "execution_count": 27,
   "id": "75e46267-5d99-4c42-967e-6fd61900ccfa",
   "metadata": {},
   "outputs": [
    {
     "data": {
      "text/plain": [
       "'hello123'"
      ]
     },
     "execution_count": 27,
     "metadata": {},
     "output_type": "execute_result"
    }
   ],
   "source": [
    "message=\"hello\"+str(123)\n",
    "message"
   ]
  },
  {
   "cell_type": "code",
   "execution_count": 28,
   "id": "7448de4e-0b41-4107-a113-7c7d236dc21a",
   "metadata": {},
   "outputs": [
    {
     "data": {
      "text/plain": [
       "True"
      ]
     },
     "execution_count": 28,
     "metadata": {},
     "output_type": "execute_result"
    }
   ],
   "source": [
    "\"python\" in \"I am learning python programming\""
   ]
  },
  {
   "cell_type": "markdown",
   "id": "789ffdfe-da5d-40b9-a0a9-c01a86a18e23",
   "metadata": {},
   "source": [
    "<b>Operators</b>"
   ]
  },
  {
   "cell_type": "code",
   "execution_count": 29,
   "id": "b5277af0-af69-43ab-b580-ba6a056bcd9e",
   "metadata": {},
   "outputs": [
    {
     "data": {
      "text/plain": [
       "6"
      ]
     },
     "execution_count": 29,
     "metadata": {},
     "output_type": "execute_result"
    }
   ],
   "source": [
    "length=3\n",
    "width=2\n",
    "area=width*length\n",
    "area"
   ]
  },
  {
   "cell_type": "code",
   "execution_count": 30,
   "id": "0ffa5982-26f9-41c4-8540-a8f1af3fb76d",
   "metadata": {},
   "outputs": [
    {
     "data": {
      "text/plain": [
       "True"
      ]
     },
     "execution_count": 30,
     "metadata": {},
     "output_type": "execute_result"
    }
   ],
   "source": [
    "4%2==0"
   ]
  },
  {
   "cell_type": "code",
   "execution_count": 32,
   "id": "c0482000-1c51-4e2e-87f9-5706e0292d91",
   "metadata": {},
   "outputs": [
    {
     "data": {
      "text/plain": [
       "15"
      ]
     },
     "execution_count": 32,
     "metadata": {},
     "output_type": "execute_result"
    }
   ],
   "source": [
    "x=10\n",
    "x+=5\n",
    "x"
   ]
  },
  {
   "cell_type": "code",
   "execution_count": 33,
   "id": "dab41347-e62a-47ca-acd2-c6f6e9148dc5",
   "metadata": {},
   "outputs": [
    {
     "data": {
      "text/plain": [
       "False"
      ]
     },
     "execution_count": 33,
     "metadata": {},
     "output_type": "execute_result"
    }
   ],
   "source": [
    "4==3"
   ]
  },
  {
   "cell_type": "code",
   "execution_count": 34,
   "id": "b6855cdf-11ce-45eb-b1fb-9c753232c63d",
   "metadata": {},
   "outputs": [
    {
     "data": {
      "text/plain": [
       "True"
      ]
     },
     "execution_count": 34,
     "metadata": {},
     "output_type": "execute_result"
    }
   ],
   "source": [
    "3<5"
   ]
  },
  {
   "cell_type": "code",
   "execution_count": 35,
   "id": "fd3ffc59-6f5b-4c50-af52-293f13c4f575",
   "metadata": {},
   "outputs": [
    {
     "data": {
      "text/plain": [
       "True"
      ]
     },
     "execution_count": 35,
     "metadata": {},
     "output_type": "execute_result"
    }
   ],
   "source": [
    "2>1"
   ]
  },
  {
   "cell_type": "code",
   "execution_count": 36,
   "id": "494a753e-f04d-4d19-9b1a-68b55f0c2764",
   "metadata": {},
   "outputs": [
    {
     "name": "stdin",
     "output_type": "stream",
     "text": [
      "Enter your age: 2\n"
     ]
    },
    {
     "name": "stdout",
     "output_type": "stream",
     "text": [
      "You are a child\n"
     ]
    }
   ],
   "source": [
    "age=int(input(\"Enter your age:\"))\n",
    "if age<18 & age>13:\n",
    "    print(\"You are a teenager\")\n",
    "elif age<13:\n",
    "    print(\"You are a child\")\n",
    "else:\n",
    "    print(\"You are an adult\")"
   ]
  },
  {
   "cell_type": "code",
   "execution_count": 1,
   "id": "941909b2-30e0-47e9-a43a-43286b76a7b4",
   "metadata": {},
   "outputs": [
    {
     "name": "stdin",
     "output_type": "stream",
     "text": [
      "Enter a number 2\n"
     ]
    },
    {
     "name": "stdout",
     "output_type": "stream",
     "text": [
      "2 is between 1 and 100\n"
     ]
    }
   ],
   "source": [
    "age=int(input('Enter a number'))\n",
    "if age < 100 and age > 1:\n",
    "    print(age,'is between 1 and 100')\n",
    "else:\n",
    "    print(age,'is not between 1 and 100')"
   ]
  },
  {
   "cell_type": "code",
   "execution_count": 2,
   "id": "5aa4110a-e214-490d-8473-200a1d2fa3d5",
   "metadata": {},
   "outputs": [
    {
     "name": "stdin",
     "output_type": "stream",
     "text": [
      "Enter the letter e\n"
     ]
    },
    {
     "name": "stdout",
     "output_type": "stream",
     "text": [
      "e is either a, e, i, o, or u\n"
     ]
    }
   ],
   "source": [
    "char=input('Enter the letter')\n",
    "if char=='a' or char=='e' or char=='i' or char=='o' or char=='u':\n",
    "   print(char,'is either a, e, i, o, or u')\n",
    "else:\n",
    "    print(char,'is neither a, e, i, o, or u')"
   ]
  },
  {
   "cell_type": "code",
   "execution_count": 3,
   "id": "7c9fd42c-cccc-4cff-b5ca-2e6c4799727e",
   "metadata": {},
   "outputs": [
    {
     "name": "stdout",
     "output_type": "stream",
     "text": [
      "Before: True\n",
      "After: False\n"
     ]
    }
   ],
   "source": [
    "is_raining = True\n",
    "print('Before:', is_raining)\n",
    "\n",
    "is_raining = not is_raining\n",
    "print('After:', is_raining)"
   ]
  },
  {
   "cell_type": "code",
   "execution_count": 4,
   "id": "0c6b7135-2d6e-43f7-8bed-7dcf097c0652",
   "metadata": {},
   "outputs": [
    {
     "data": {
      "text/plain": [
       "False"
      ]
     },
     "execution_count": 4,
     "metadata": {},
     "output_type": "execute_result"
    }
   ],
   "source": [
    " [1,2,3] is [1,2,3]\n"
   ]
  },
  {
   "cell_type": "code",
   "execution_count": 5,
   "id": "d13b1683-107d-42f4-8145-8fe707bcf576",
   "metadata": {},
   "outputs": [
    {
     "data": {
      "text/plain": [
       "True"
      ]
     },
     "execution_count": 5,
     "metadata": {},
     "output_type": "execute_result"
    }
   ],
   "source": [
    "5 in [1,2,3,4,5]"
   ]
  },
  {
   "cell_type": "markdown",
   "id": "8cb714eb-c14b-496e-9cb6-0e93acc5ee53",
   "metadata": {},
   "source": [
    "<b>Control flow</b>"
   ]
  },
  {
   "cell_type": "code",
   "execution_count": 6,
   "id": "357fe87f-040c-42ec-9a23-2e0e1f067de2",
   "metadata": {},
   "outputs": [
    {
     "name": "stdin",
     "output_type": "stream",
     "text": [
      "Enter a number 5\n"
     ]
    },
    {
     "name": "stdout",
     "output_type": "stream",
     "text": [
      "Positive\n"
     ]
    }
   ],
   "source": [
    "\n",
    "n=int(input('Enter a number'))\n",
    "if n>0:\n",
    "    print('Positive')"
   ]
  },
  {
   "cell_type": "code",
   "execution_count": 15,
   "id": "f2a9e3c6-d749-4fc6-ae7a-62fa1f2e9081",
   "metadata": {},
   "outputs": [
    {
     "name": "stdin",
     "output_type": "stream",
     "text": [
      "Enter a number 9\n"
     ]
    },
    {
     "name": "stdout",
     "output_type": "stream",
     "text": [
      "This number is odd\n"
     ]
    }
   ],
   "source": [
    "n=int(input('Enter a number'))\n",
    "if n%2==0:\n",
    "    print('This number is even')\n",
    "else:\n",
    "    print('This number is odd')"
   ]
  },
  {
   "cell_type": "code",
   "execution_count": 21,
   "id": "6931bc1d-03ef-4cef-988a-70500b6750a8",
   "metadata": {},
   "outputs": [
    {
     "name": "stdin",
     "output_type": "stream",
     "text": [
      "Enter your grade 92\n"
     ]
    },
    {
     "name": "stdout",
     "output_type": "stream",
     "text": [
      "A\n"
     ]
    }
   ],
   "source": [
    "n=int(input('Enter your grade:'))\n",
    "if n<60:\n",
    "    print('F')\n",
    "elif n>=60 and n<70:\n",
    "    print('D')\n",
    "elif n>=70 and n<80:\n",
    "    print('C')\n",
    "elif n>=80 and n<90:\n",
    "    print('B')\n",
    "else:\n",
    "    print('A')"
   ]
  },
  {
   "cell_type": "code",
   "execution_count": 22,
   "id": "31ff51f8-95d9-4ca9-a561-2a9244fc954f",
   "metadata": {},
   "outputs": [
    {
     "name": "stdout",
     "output_type": "stream",
     "text": [
      "H\n",
      "e\n",
      "l\n",
      "l\n",
      "o\n"
     ]
    }
   ],
   "source": [
    "for char in \"Hello\":\n",
    "    print(char)"
   ]
  },
  {
   "cell_type": "code",
   "execution_count": 23,
   "id": "fae8186c-f0be-43dc-b3d6-033369f16a31",
   "metadata": {},
   "outputs": [
    {
     "name": "stdout",
     "output_type": "stream",
     "text": [
      "15\n"
     ]
    }
   ],
   "source": [
    "l=[1,2,3,4,5]\n",
    "sum=0\n",
    "for i in range(len(l)):\n",
    "    sum=sum+l[i]\n",
    "print(sum)"
   ]
  },
  {
   "cell_type": "code",
   "execution_count": 24,
   "id": "d8bdffdd-501f-43a8-9e99-c37bdb1f4790",
   "metadata": {},
   "outputs": [
    {
     "name": "stdout",
     "output_type": "stream",
     "text": [
      "1\n",
      "2\n",
      "3\n",
      "4\n",
      "5\n"
     ]
    }
   ],
   "source": [
    "i=1\n",
    "while i<6:\n",
    "    print(i)\n",
    "    i=i+1"
   ]
  },
  {
   "cell_type": "code",
   "execution_count": 28,
   "id": "6e6890b0-212e-41bf-b910-1b8c23e1751a",
   "metadata": {},
   "outputs": [
    {
     "name": "stdin",
     "output_type": "stream",
     "text": [
      "Type quit if you wanna stop df\n",
      "Type quit if you wanna stop quit\n"
     ]
    }
   ],
   "source": [
    "ans=True\n",
    "while ans==True:\n",
    "    answ=input('Type quit if you wanna stop:')\n",
    "    if answ=='quit':\n",
    "        ans=False\n",
    "    \n"
   ]
  },
  {
   "cell_type": "code",
   "execution_count": 34,
   "id": "bf65b0c2-fd5c-412d-82b1-3e2bd88a62f4",
   "metadata": {},
   "outputs": [
    {
     "name": "stdout",
     "output_type": "stream",
     "text": [
      "* * *\n",
      "* * *\n",
      "* * *\n"
     ]
    }
   ],
   "source": [
    "for i in range(3):\n",
    "    for j in range(1):\n",
    "        print('*','*','*')"
   ]
  },
  {
   "cell_type": "code",
   "execution_count": 7,
   "id": "cf89970f-2e21-436c-a63c-a16365bff4c5",
   "metadata": {},
   "outputs": [
    {
     "name": "stdout",
     "output_type": "stream",
     "text": [
      "0\n",
      "1\n",
      "2\n",
      "3\n",
      "4\n",
      "5\n"
     ]
    }
   ],
   "source": [
    "i=0\n",
    "while i<10:\n",
    "    print(i)\n",
    "    if i==5:\n",
    "        break\n",
    "    i=i+1"
   ]
  },
  {
   "cell_type": "code",
   "execution_count": 8,
   "id": "7fcc4a7d-12c4-46ca-b5ff-02983deb5816",
   "metadata": {},
   "outputs": [
    {
     "name": "stdout",
     "output_type": "stream",
     "text": [
      "1\n",
      "3\n",
      "5\n",
      "7\n",
      "9\n"
     ]
    }
   ],
   "source": [
    "for i in range(10):\n",
    "    if i%2==0:\n",
    "        continue\n",
    "    if i%2!=0:\n",
    "        print(i)"
   ]
  },
  {
   "cell_type": "markdown",
   "id": "856bd484-9e88-414c-a678-a874cd4ed1ce",
   "metadata": {},
   "source": [
    "<b>FUNCTIONS</b>"
   ]
  },
  {
   "cell_type": "code",
   "execution_count": 9,
   "id": "d0a6c98c-79f2-41f6-96fe-02ca1cd2b729",
   "metadata": {},
   "outputs": [],
   "source": [
    "def greet():\n",
    "    print('Hello World!')"
   ]
  },
  {
   "cell_type": "code",
   "execution_count": 10,
   "id": "2a1b8984-553a-404a-9d9a-c6639a644f99",
   "metadata": {},
   "outputs": [
    {
     "name": "stdout",
     "output_type": "stream",
     "text": [
      "Hello World!\n"
     ]
    }
   ],
   "source": [
    "greet()"
   ]
  },
  {
   "cell_type": "code",
   "execution_count": 11,
   "id": "48b35aa1-4306-45f6-aac0-3356cf3ed375",
   "metadata": {},
   "outputs": [],
   "source": [
    "def square(i):\n",
    "    return i**2\n",
    "    \n",
    "    "
   ]
  },
  {
   "cell_type": "code",
   "execution_count": 12,
   "id": "51bf9a79-79d0-49a8-b830-8dd9c8c78a9a",
   "metadata": {},
   "outputs": [
    {
     "data": {
      "text/plain": [
       "4"
      ]
     },
     "execution_count": 12,
     "metadata": {},
     "output_type": "execute_result"
    }
   ],
   "source": [
    "square(2)"
   ]
  },
  {
   "cell_type": "code",
   "execution_count": 13,
   "id": "d3027376-0b6f-4205-89d6-845b9c2c7e3c",
   "metadata": {},
   "outputs": [],
   "source": [
    "def add(i,j):\n",
    "    return i+j"
   ]
  },
  {
   "cell_type": "code",
   "execution_count": 14,
   "id": "9c174946-4c75-4a9a-95f5-0f7c84f95610",
   "metadata": {},
   "outputs": [
    {
     "data": {
      "text/plain": [
       "11"
      ]
     },
     "execution_count": 14,
     "metadata": {},
     "output_type": "execute_result"
    }
   ],
   "source": [
    "add(3,8)"
   ]
  },
  {
   "cell_type": "code",
   "execution_count": 15,
   "id": "2bc3ed65-cfba-4a33-b40a-eb0b574a101d",
   "metadata": {},
   "outputs": [],
   "source": [
    "def is_even(i):\n",
    "    boolean = True\n",
    "    if i%2==0:\n",
    "        return boolean\n",
    "    else:\n",
    "        boolean = False\n",
    "        return boolean"
   ]
  },
  {
   "cell_type": "code",
   "execution_count": 16,
   "id": "ca6fa957-4c8a-489a-94ce-58f729db1d66",
   "metadata": {},
   "outputs": [
    {
     "data": {
      "text/plain": [
       "False"
      ]
     },
     "execution_count": 16,
     "metadata": {},
     "output_type": "execute_result"
    }
   ],
   "source": [
    "is_even(3)"
   ]
  },
  {
   "cell_type": "code",
   "execution_count": 17,
   "id": "2422fa64-044d-4c4f-be20-5e4b7045cc88",
   "metadata": {},
   "outputs": [
    {
     "ename": "SyntaxError",
     "evalue": "invalid syntax (2181047081.py, line 1)",
     "output_type": "error",
     "traceback": [
      "\u001b[1;36m  Cell \u001b[1;32mIn[17], line 1\u001b[1;36m\u001b[0m\n\u001b[1;33m    def null(0):\u001b[0m\n\u001b[1;37m             ^\u001b[0m\n\u001b[1;31mSyntaxError\u001b[0m\u001b[1;31m:\u001b[0m invalid syntax\n"
     ]
    }
   ],
   "source": [
    "def null(0):\n",
    "    print(0)"
   ]
  },
  {
   "cell_type": "code",
   "execution_count": 21,
   "id": "8353f3c7-8c50-4be3-b64b-3065bcc09f0d",
   "metadata": {},
   "outputs": [],
   "source": [
    "def greet(name='Macado',message='Hello'):\n",
    "    print(name,message)"
   ]
  },
  {
   "cell_type": "code",
   "execution_count": 25,
   "id": "e3189029-65f2-4110-bef9-6f35cccb364f",
   "metadata": {},
   "outputs": [
    {
     "name": "stdout",
     "output_type": "stream",
     "text": [
      "Macado Hello\n"
     ]
    }
   ],
   "source": [
    "greet('Macado','Hello')"
   ]
  },
  {
   "cell_type": "code",
   "execution_count": 34,
   "id": "31059bc3-981d-4da2-a794-def0150e2f04",
   "metadata": {},
   "outputs": [
    {
     "name": "stdout",
     "output_type": "stream",
     "text": [
      "18\n"
     ]
    }
   ],
   "source": [
    "multiply = lambda a, b: a * b\n",
    "print(multiply(3,6))"
   ]
  },
  {
   "cell_type": "code",
   "execution_count": 35,
   "id": "e20dc69e-b75a-435c-b278-935cd1049121",
   "metadata": {},
   "outputs": [
    {
     "name": "stdout",
     "output_type": "stream",
     "text": [
      "[2, 4]\n"
     ]
    }
   ],
   "source": [
    "a =[1,2,3,4,5]\n",
    "b =list(filter(lambda x: x % 2 == 0, a))\n",
    "print(b)\n"
   ]
  },
  {
   "cell_type": "code",
   "execution_count": 38,
   "id": "0d48f50b-63b9-4d34-a83d-912686c3c46f",
   "metadata": {},
   "outputs": [
    {
     "name": "stdout",
     "output_type": "stream",
     "text": [
      "[1, 4, 9, 16, 25]\n"
     ]
    }
   ],
   "source": [
    "n=[1,2,3,4,5]\n",
    "\n",
    "square = list(map(lambda x: x**2, n))\n",
    "\n",
    "print(square)\n"
   ]
  },
  {
   "cell_type": "code",
   "execution_count": 39,
   "id": "631ded4a-9dea-4153-b88b-9039005d4831",
   "metadata": {},
   "outputs": [],
   "source": [
    "def factorial(n):\n",
    "    j=1\n",
    "    for i in range(n):\n",
    "        j=j*n\n",
    "        n=n-1\n",
    "    return j"
   ]
  },
  {
   "cell_type": "code",
   "execution_count": 44,
   "id": "3df99163-1550-4376-9010-77a43bd1daa4",
   "metadata": {},
   "outputs": [
    {
     "data": {
      "text/plain": [
       "720"
      ]
     },
     "execution_count": 44,
     "metadata": {},
     "output_type": "execute_result"
    }
   ],
   "source": [
    "factorial(6)"
   ]
  },
  {
   "cell_type": "markdown",
   "id": "aa3dad95-0386-4c49-8812-894111e710ec",
   "metadata": {},
   "source": [
    "<b>DATA STRUCTURES</b>"
   ]
  },
  {
   "cell_type": "code",
   "execution_count": 46,
   "id": "bcf7cd02-a93b-46d7-945d-58f200bce6d4",
   "metadata": {},
   "outputs": [
    {
     "name": "stdout",
     "output_type": "stream",
     "text": [
      "Mango\n"
     ]
    }
   ],
   "source": [
    "fruits=['Apple','Mango','Potato']\n",
    "print(fruits[1])"
   ]
  },
  {
   "cell_type": "code",
   "execution_count": 72,
   "id": "3804e182-ddd3-4101-8315-9d6db000932d",
   "metadata": {},
   "outputs": [
    {
     "data": {
      "text/plain": [
       "['Apple', 'Mango', 'Potato', 'Grape']"
      ]
     },
     "execution_count": 72,
     "metadata": {},
     "output_type": "execute_result"
    }
   ],
   "source": [
    "fruits.append('Grape')\n",
    "fruits"
   ]
  },
  {
   "cell_type": "code",
   "execution_count": 51,
   "id": "482e3ff6-25d6-4605-8681-a41b0db32022",
   "metadata": {},
   "outputs": [
    {
     "data": {
      "text/plain": [
       "(1, 2, 3)"
      ]
     },
     "execution_count": 51,
     "metadata": {},
     "output_type": "execute_result"
    }
   ],
   "source": [
    "point=(1,2,3)\n",
    "point"
   ]
  },
  {
   "cell_type": "code",
   "execution_count": 56,
   "id": "8a701ea0-47be-4b8c-bb4d-ddd08fe0cd97",
   "metadata": {},
   "outputs": [
    {
     "data": {
      "text/plain": [
       "{'name': 'Traore', 'age': 20, 'city': 'Abidjan'}"
      ]
     },
     "execution_count": 56,
     "metadata": {},
     "output_type": "execute_result"
    }
   ],
   "source": [
    "Dictionary = { 'name':'Traore', 'age':20, 'city':'Abidjan'}\n",
    "Dictionary"
   ]
  },
  {
   "cell_type": "code",
   "execution_count": 57,
   "id": "bb046489-3d4b-417e-96ae-62152e5b2a0b",
   "metadata": {},
   "outputs": [
    {
     "data": {
      "text/plain": [
       "20"
      ]
     },
     "execution_count": 57,
     "metadata": {},
     "output_type": "execute_result"
    }
   ],
   "source": [
    "Dictionary['age']"
   ]
  },
  {
   "cell_type": "code",
   "execution_count": 60,
   "id": "86a39ec6-0f25-476c-80ec-76eddb1eb79e",
   "metadata": {},
   "outputs": [
    {
     "data": {
      "text/plain": [
       "{'name': 'Traore', 'age': 20, 'city': 'Abidjan', 'Job': 'Student'}"
      ]
     },
     "execution_count": 60,
     "metadata": {},
     "output_type": "execute_result"
    }
   ],
   "source": [
    "Dictionary['Job']='Student'\n",
    "Dictionary"
   ]
  },
  {
   "cell_type": "code",
   "execution_count": 63,
   "id": "cf3aa126-36ed-491d-8565-ca701acebde2",
   "metadata": {},
   "outputs": [
    {
     "data": {
      "text/plain": [
       "{1, 2, 3, 4, 5}"
      ]
     },
     "execution_count": 63,
     "metadata": {},
     "output_type": "execute_result"
    }
   ],
   "source": [
    "a=[1,2,2,3,4,4,5]\n",
    "c_a=set(a)\n",
    "c_a"
   ]
  },
  {
   "cell_type": "code",
   "execution_count": 79,
   "id": "b1755e4b-a1bd-4e0e-804c-bc578b5487c2",
   "metadata": {},
   "outputs": [
    {
     "name": "stdout",
     "output_type": "stream",
     "text": [
      "['Apple', 'Mango']\n"
     ]
    }
   ],
   "source": [
    "fruits=['Apple','Mango','Potato']\n",
    "fruits.pop()\n",
    "print(fruits)"
   ]
  },
  {
   "cell_type": "code",
   "execution_count": 82,
   "id": "496e596b-3297-4b98-9588-b9dabab1fd5a",
   "metadata": {},
   "outputs": [
    {
     "data": {
      "text/plain": [
       "dict_keys(['name', 'age', 'city', 'Job'])"
      ]
     },
     "execution_count": 82,
     "metadata": {},
     "output_type": "execute_result"
    }
   ],
   "source": [
    "Dictionary.keys()"
   ]
  },
  {
   "cell_type": "code",
   "execution_count": 86,
   "id": "ae796bf6-73a0-4c72-ba99-ad9740f75d64",
   "metadata": {},
   "outputs": [
    {
     "data": {
      "text/plain": [
       "{2, 3}"
      ]
     },
     "execution_count": 86,
     "metadata": {},
     "output_type": "execute_result"
    }
   ],
   "source": [
    "a={1,2,3}\n",
    "b={2,3,4}\n",
    "a.intersection(b)"
   ]
  },
  {
   "cell_type": "markdown",
   "id": "2bc9bd76-048c-4830-90d2-00fb9eaeabc4",
   "metadata": {},
   "source": [
    "<h1>OBJECT ORIENTED PROGRAMMING</h1>\n",
    "<b>Classes and objects</b>"
   ]
  },
  {
   "cell_type": "code",
   "execution_count": 2,
   "id": "80f54354-5132-4813-89aa-a54a28987999",
   "metadata": {},
   "outputs": [],
   "source": [
    "class Car():\n",
    "    def __init__(self,color,brand):\n",
    "        self.color=color\n",
    "        self.brand=brand\n",
    "    def describe(self):\n",
    "        print(f'This car is {self.color} {self.brand}')\n",
    "        "
   ]
  },
  {
   "cell_type": "code",
   "execution_count": 115,
   "id": "2f402090-52d6-493e-9bbc-53283330843b",
   "metadata": {},
   "outputs": [
    {
     "name": "stdout",
     "output_type": "stream",
     "text": [
      "This car is red Toyota\n"
     ]
    }
   ],
   "source": [
    "car1.describe"
   ]
  },
  {
   "cell_type": "code",
   "execution_count": 116,
   "id": "993ceaeb-87f9-4b20-b747-d7c48b2147e8",
   "metadata": {},
   "outputs": [
    {
     "name": "stdout",
     "output_type": "stream",
     "text": [
      "This car is red Toyota\n"
     ]
    }
   ],
   "source": [
    "car1= Car(\"red\",\"Toyota\")\n",
    "car1.describe()"
   ]
  },
  {
   "cell_type": "code",
   "execution_count": 117,
   "id": "e87919df-d271-4f78-81f5-0ee69424024b",
   "metadata": {},
   "outputs": [
    {
     "name": "stdout",
     "output_type": "stream",
     "text": [
      "This car is blue Mercedes\n"
     ]
    }
   ],
   "source": [
    "car2=Car('blue',\"Mercedes\")\n",
    "car2.describe()"
   ]
  },
  {
   "cell_type": "code",
   "execution_count": 118,
   "id": "27d2b852-75c2-4205-87c8-29bcf0692b7e",
   "metadata": {},
   "outputs": [],
   "source": [
    "car1.speed=100"
   ]
  },
  {
   "cell_type": "code",
   "execution_count": 15,
   "id": "e9d3561d-1fd6-4c19-a963-c52edf519665",
   "metadata": {},
   "outputs": [],
   "source": [
    "class dog:\n",
    "    def __init__(self,name,age):\n",
    "        self.name= name\n",
    "        self.age= age\n",
    "    def bark(self):\n",
    "        print(\"Woof\")"
   ]
  },
  {
   "cell_type": "code",
   "execution_count": 16,
   "id": "48668b89-15d5-41fd-98c0-5ae5bd813a66",
   "metadata": {},
   "outputs": [
    {
     "name": "stdout",
     "output_type": "stream",
     "text": [
      "Rantanplan\n",
      "3\n",
      "Woof\n"
     ]
    }
   ],
   "source": [
    "Dog=dog(\"Rantanplan\",3)\n",
    "print(Dog.name)\n",
    "print(Dog.age)\n",
    "Dog.bark()"
   ]
  },
  {
   "cell_type": "markdown",
   "id": "7d048e89-116f-4484-9d0c-4f1aaacfd645",
   "metadata": {},
   "source": [
    "<b>Inheritance</b>"
   ]
  },
  {
   "cell_type": "code",
   "execution_count": 37,
   "id": "7419e9ff-650c-4f60-96e9-25f87556c973",
   "metadata": {},
   "outputs": [],
   "source": [
    "class Animal:\n",
    "    def __init__(self,name,age):\n",
    "        self.name=name\n",
    "        self.age = age\n",
    "    def speak(self):\n",
    "        print(\"Generic sound\")"
   ]
  },
  {
   "cell_type": "code",
   "execution_count": 43,
   "id": "f62247c8-e7fe-4b9b-8944-09554d2732da",
   "metadata": {},
   "outputs": [],
   "source": [
    "class Dog(Animal):\n",
    "    def __init__(self,name,age,breed):\n",
    "        super().__init__(name,age)\n",
    "        self.breed=breed\n",
    "    def speak(self):\n",
    "        print(\"Woof\")"
   ]
  },
  {
   "cell_type": "code",
   "execution_count": 46,
   "id": "ce3c83a9-016d-4817-985c-7a3f510b6261",
   "metadata": {},
   "outputs": [
    {
     "name": "stdout",
     "output_type": "stream",
     "text": [
      "Rex\n",
      "5\n",
      "Doberman\n",
      "Woof\n"
     ]
    }
   ],
   "source": [
    "dog=Dog(\"Rex\",5,\"Doberman\")\n",
    "print(dog.name)\n",
    "print(dog.age)\n",
    "print(dog.breed)\n",
    "dog.speak()"
   ]
  },
  {
   "cell_type": "code",
   "execution_count": 35,
   "id": "aa071e3a-0772-4edb-ae0e-138114b798f2",
   "metadata": {},
   "outputs": [
    {
     "name": "stdout",
     "output_type": "stream",
     "text": [
      "Meow\n"
     ]
    }
   ],
   "source": [
    "class Cat(Animal):\n",
    "    def speak(self):\n",
    "        print(\"Meow\")\n",
    "\n",
    "cat=Cat()\n",
    "cat.speak()"
   ]
  },
  {
   "cell_type": "code",
   "execution_count": 49,
   "id": "87244d83-4042-4189-894b-8ba7e1adcc91",
   "metadata": {},
   "outputs": [
    {
     "name": "stdout",
     "output_type": "stream",
     "text": [
      "Baby Woof!\n"
     ]
    }
   ],
   "source": [
    "class BabyDog(Dog):\n",
    "    def speak(self):\n",
    "        print(\"Baby Woof!\")\n",
    "\n",
    "BabyD=BabyDog(\"Husky\",1,\"Caniche\")\n",
    "BabyD.speak()"
   ]
  },
  {
   "cell_type": "code",
   "execution_count": 64,
   "id": "592fc8a5-1aa4-4d96-bf82-0dc5531c8ce8",
   "metadata": {},
   "outputs": [],
   "source": [
    "class Robot:\n",
    "    def __init__(self,model, **kwargs):\n",
    "        super().__init__(**kwargs)\n",
    "        self.model=model\n",
    "    "
   ]
  },
  {
   "cell_type": "code",
   "execution_count": 65,
   "id": "505d7d9d-6a82-49d7-b51f-9cfbc26261e9",
   "metadata": {},
   "outputs": [],
   "source": [
    "class Pet:\n",
    "    def __init__(self,name, race,**kwargs):\n",
    "        super().__init__(**kwargs)\n",
    "        self.name=name\n",
    "        self.race=race"
   ]
  },
  {
   "cell_type": "code",
   "execution_count": 66,
   "id": "a77912ce-fb22-4987-b700-21e1f128cb47",
   "metadata": {},
   "outputs": [],
   "source": [
    "class RoboDog(Robot,Pet):\n",
    "    def __init__(self,name,race,model):\n",
    "        super().__init__(name=name,race=race,model=model)\n",
    "        print(\"RoboDog initialized!\")"
   ]
  },
  {
   "cell_type": "code",
   "execution_count": 67,
   "id": "781cbfc8-c82d-46af-9c76-99be5add96be",
   "metadata": {},
   "outputs": [
    {
     "name": "stdout",
     "output_type": "stream",
     "text": [
      "RoboDog initialized!\n"
     ]
    }
   ],
   "source": [
    "Rob=RoboDog(\"T-Rex\",\"Doberman\",\"V6\")\n"
   ]
  },
  {
   "cell_type": "markdown",
   "id": "179e2578-cc07-43d0-a4f0-e13dde256f59",
   "metadata": {},
   "source": [
    "<b>Polymorphism and Encapsulation</b>"
   ]
  },
  {
   "cell_type": "code",
   "execution_count": 79,
   "id": "285d4fe3-5fc8-46e5-ba66-6ae09a51c528",
   "metadata": {},
   "outputs": [],
   "source": [
    "from abc import ABC, abstractmethod\n",
    "import math\n",
    "class Shape(ABC):\n",
    "    def area(self):\n",
    "        pass"
   ]
  },
  {
   "cell_type": "code",
   "execution_count": 102,
   "id": "f2a4d1d9-2a2f-483b-a5a9-03ec547e3c64",
   "metadata": {},
   "outputs": [],
   "source": [
    "class Rectangle(Shape):\n",
    "    def __init__(self,w,l,nature='Rectangle'):\n",
    "        self.nature=nature\n",
    "        self.__w=w\n",
    "        self.__l=l\n",
    "    def area(self):\n",
    "        return self.__w*self.__l\n",
    "    \n",
    "    def get_width(self):\n",
    "        return self.__w\n",
    "    \n",
    "    def set_width(self,w):\n",
    "        return self.__w==w \n",
    "\n",
    "    def get_length(self):\n",
    "        return self.__l\n",
    "    \n",
    "    def set_length(self,l):\n",
    "        return self.__l==l \n",
    "\n"
   ]
  },
  {
   "cell_type": "code",
   "execution_count": 97,
   "id": "5847856e-0504-440f-848d-14a06ac87368",
   "metadata": {},
   "outputs": [],
   "source": [
    "class Circle(Shape):\n",
    "    def __init__(self,r,nature='Circle'):\n",
    "        self.nature=nature\n",
    "        self.r=r\n",
    "    def area(self):\n",
    "        return math.pi*((self.r)**2)"
   ]
  },
  {
   "cell_type": "code",
   "execution_count": 98,
   "id": "24b2165b-a026-4cb6-886c-e3005a6f879e",
   "metadata": {},
   "outputs": [],
   "source": [
    "def print_area(Shape):\n",
    "    print(\"The area of the\",Shape.nature,\" is\",Shape.area())"
   ]
  },
  {
   "cell_type": "code",
   "execution_count": 99,
   "id": "1dee51df-85a7-4146-98e8-47c0fda47767",
   "metadata": {},
   "outputs": [
    {
     "name": "stdout",
     "output_type": "stream",
     "text": [
      "The area of the Rectangle  is 12\n",
      "The area of the Circle  is 28.274333882308138\n"
     ]
    }
   ],
   "source": [
    "rect=Rectangle(3,4)\n",
    "cir=Circle(3)\n",
    "print_area(rect)\n",
    "print_area(cir)"
   ]
  },
  {
   "cell_type": "code",
   "execution_count": 103,
   "id": "e4c6a687-a021-4acd-80a7-c13726bf1bc2",
   "metadata": {},
   "outputs": [
    {
     "ename": "AttributeError",
     "evalue": "'Rectangle' object has no attribute '__width'",
     "output_type": "error",
     "traceback": [
      "\u001b[1;31m---------------------------------------------------------------------------\u001b[0m",
      "\u001b[1;31mAttributeError\u001b[0m                            Traceback (most recent call last)",
      "Cell \u001b[1;32mIn[103], line 1\u001b[0m\n\u001b[1;32m----> 1\u001b[0m rect\u001b[38;5;241m.\u001b[39m__width\n",
      "\u001b[1;31mAttributeError\u001b[0m: 'Rectangle' object has no attribute '__width'"
     ]
    }
   ],
   "source": [
    "rect.__width"
   ]
  },
  {
   "cell_type": "code",
   "execution_count": 124,
   "id": "07a102b2-ac4a-4d40-b0e3-245451423539",
   "metadata": {},
   "outputs": [],
   "source": [
    "class BankAccount:\n",
    "    def __init__(self,balance):\n",
    "        self.__balance=balance\n",
    "    def deposit(self,amount):\n",
    "        self.__balance=amount+self.__balance\n",
    "        print(\"You deposit $\", amount, \". Now you have\", self.__balance)\n",
    "    def withdraw(self,amount):\n",
    "        if amount>self.__balance:\n",
    "            print(\"The amount entered is superior to the balance, Retry\")\n",
    "        elif amount <= 0:\n",
    "            print(\"Invalid withdrawal amount.\")\n",
    "        else:\n",
    "            self.__balance -= amount\n",
    "            print(f\"Withdrew ${amount}. Remaining balance: ${self.__balance}\")\n",
    "\n",
    "    def get_balance(self):\n",
    "        return self.__balance"
   ]
  },
  {
   "cell_type": "code",
   "execution_count": 129,
   "id": "829f9e08-ba31-44a5-b046-1768c3b9f695",
   "metadata": {},
   "outputs": [
    {
     "data": {
      "text/plain": [
       "100"
      ]
     },
     "execution_count": 129,
     "metadata": {},
     "output_type": "execute_result"
    }
   ],
   "source": [
    "Account=BankAccount(100)\n",
    "Account.get_balance()"
   ]
  },
  {
   "cell_type": "code",
   "execution_count": 130,
   "id": "422261eb-43ab-4b16-a607-2cc85bbcf752",
   "metadata": {},
   "outputs": [
    {
     "name": "stdout",
     "output_type": "stream",
     "text": [
      "Withdrew $50. Remaining balance: $50\n"
     ]
    }
   ],
   "source": [
    "Account.withdraw(50)"
   ]
  },
  {
   "cell_type": "code",
   "execution_count": 131,
   "id": "b08168be-d331-46c2-ab8e-f3d522d5fb40",
   "metadata": {},
   "outputs": [
    {
     "name": "stdout",
     "output_type": "stream",
     "text": [
      "The amount entered is superior to the balance, Retry\n"
     ]
    }
   ],
   "source": [
    "Account.withdraw(60)"
   ]
  },
  {
   "cell_type": "code",
   "execution_count": 132,
   "id": "75becd51-6574-4a40-9bef-c52b7ae358b6",
   "metadata": {},
   "outputs": [
    {
     "name": "stdout",
     "output_type": "stream",
     "text": [
      "You deposit $ 30 . Now you have 80\n"
     ]
    }
   ],
   "source": [
    "Account.deposit(30)"
   ]
  },
  {
   "cell_type": "code",
   "execution_count": 133,
   "id": "570477cc-6d24-45de-a4c7-d74992a86ad7",
   "metadata": {},
   "outputs": [
    {
     "name": "stdout",
     "output_type": "stream",
     "text": [
      "You deposit $ 20 . Now you have 100\n"
     ]
    }
   ],
   "source": [
    "Account.deposit(20)"
   ]
  },
  {
   "cell_type": "markdown",
   "id": "54c1ce24-5f8b-43de-a03d-fe544b2bf1e0",
   "metadata": {},
   "source": [
    "<h1>Advanced Topics</h1>\n"
   ]
  },
  {
   "cell_type": "markdown",
   "id": "cd4c145f-b7e0-44c9-a8aa-dcdcddd3eed4",
   "metadata": {},
   "source": [
    "<b>Modules and Packages</b>"
   ]
  },
  {
   "cell_type": "code",
   "execution_count": 12,
   "id": "18ae5c1d-e0bc-4364-b7ae-1ae69c3473fa",
   "metadata": {},
   "outputs": [],
   "source": [
    "import math"
   ]
  },
  {
   "cell_type": "code",
   "execution_count": 13,
   "id": "60584d18-0170-40f7-b5e9-bdaaf8ec9a49",
   "metadata": {},
   "outputs": [
    {
     "data": {
      "text/plain": [
       "4.0"
      ]
     },
     "execution_count": 13,
     "metadata": {},
     "output_type": "execute_result"
    }
   ],
   "source": [
    "math.sqrt(16)"
   ]
  },
  {
   "cell_type": "code",
   "execution_count": 14,
   "id": "cfefbbfe-3c6b-456f-a75f-d25e8cfaed51",
   "metadata": {},
   "outputs": [
    {
     "data": {
      "text/plain": [
       "3.141592653589793"
      ]
     },
     "execution_count": 14,
     "metadata": {},
     "output_type": "execute_result"
    }
   ],
   "source": [
    "from math import pi\n",
    "pi"
   ]
  },
  {
   "cell_type": "code",
   "execution_count": 15,
   "id": "61d65ed8-3d5b-4bf6-b7c5-7582423b47ca",
   "metadata": {},
   "outputs": [
    {
     "name": "stdout",
     "output_type": "stream",
     "text": [
      "Hello Nouhr\n"
     ]
    }
   ],
   "source": [
    "import my_module as mm\n",
    "\n",
    "message = mm.greet(\"Nouhr\")\n"
   ]
  },
  {
   "cell_type": "code",
   "execution_count": 16,
   "id": "f7601690-b834-42fa-a9d1-4ba9bcd1039c",
   "metadata": {},
   "outputs": [],
   "source": [
    "import os \n",
    "\n",
    "os.makedirs(\"mypackage\",exist_ok=True)\n",
    "\n",
    "with open(\"mypackage/__init__.py\", \"w\") as f:\n",
    "    f.write(\"# mypackage init file\")\n",
    "\n",
    "with open(\"mypackage/module1.py\",\"w\") as f:\n",
    "    f.write(\"def say_hello(): print('Hello from module1 inside mypackage')\")\n"
   ]
  },
  {
   "cell_type": "code",
   "execution_count": 17,
   "id": "0d5a4bc3-a55b-4254-84b2-039053df673c",
   "metadata": {},
   "outputs": [],
   "source": [
    "from mypackage import module1"
   ]
  },
  {
   "cell_type": "code",
   "execution_count": 18,
   "id": "de70e74c-c3fc-4f4e-98b0-0ee9700763ef",
   "metadata": {},
   "outputs": [
    {
     "name": "stdout",
     "output_type": "stream",
     "text": [
      "Hello from module1 inside mypackage\n"
     ]
    }
   ],
   "source": [
    "module1.say_hello()"
   ]
  },
  {
   "cell_type": "code",
   "execution_count": 20,
   "id": "3c391ad0-bb53-4b52-b55b-3615bd663ea5",
   "metadata": {},
   "outputs": [
    {
     "data": {
      "text/plain": [
       "['__doc__',\n",
       " '__loader__',\n",
       " '__name__',\n",
       " '__package__',\n",
       " '__spec__',\n",
       " 'acos',\n",
       " 'acosh',\n",
       " 'asin',\n",
       " 'asinh',\n",
       " 'atan',\n",
       " 'atan2',\n",
       " 'atanh',\n",
       " 'cbrt',\n",
       " 'ceil',\n",
       " 'comb',\n",
       " 'copysign',\n",
       " 'cos',\n",
       " 'cosh',\n",
       " 'degrees',\n",
       " 'dist',\n",
       " 'e',\n",
       " 'erf',\n",
       " 'erfc',\n",
       " 'exp',\n",
       " 'exp2',\n",
       " 'expm1',\n",
       " 'fabs',\n",
       " 'factorial',\n",
       " 'floor',\n",
       " 'fma',\n",
       " 'fmod',\n",
       " 'frexp',\n",
       " 'fsum',\n",
       " 'gamma',\n",
       " 'gcd',\n",
       " 'hypot',\n",
       " 'inf',\n",
       " 'isclose',\n",
       " 'isfinite',\n",
       " 'isinf',\n",
       " 'isnan',\n",
       " 'isqrt',\n",
       " 'lcm',\n",
       " 'ldexp',\n",
       " 'lgamma',\n",
       " 'log',\n",
       " 'log10',\n",
       " 'log1p',\n",
       " 'log2',\n",
       " 'modf',\n",
       " 'nan',\n",
       " 'nextafter',\n",
       " 'perm',\n",
       " 'pi',\n",
       " 'pow',\n",
       " 'prod',\n",
       " 'radians',\n",
       " 'remainder',\n",
       " 'sin',\n",
       " 'sinh',\n",
       " 'sqrt',\n",
       " 'sumprod',\n",
       " 'tan',\n",
       " 'tanh',\n",
       " 'tau',\n",
       " 'trunc',\n",
       " 'ulp']"
      ]
     },
     "execution_count": 20,
     "metadata": {},
     "output_type": "execute_result"
    }
   ],
   "source": [
    "dir(math)"
   ]
  },
  {
   "cell_type": "code",
   "execution_count": 21,
   "id": "9f1823fb-85b7-4b5a-990c-16d2dabdcc32",
   "metadata": {},
   "outputs": [
    {
     "name": "stdout",
     "output_type": "stream",
     "text": [
      "__main__\n"
     ]
    }
   ],
   "source": [
    "print(__name__)"
   ]
  },
  {
   "cell_type": "code",
   "execution_count": 22,
   "id": "058744f1-ff01-481d-9f6e-7888d6142130",
   "metadata": {},
   "outputs": [
    {
     "data": {
      "text/plain": [
       "'__main__'"
      ]
     },
     "execution_count": 22,
     "metadata": {},
     "output_type": "execute_result"
    }
   ],
   "source": [
    "__name__"
   ]
  },
  {
   "cell_type": "markdown",
   "id": "5867c048-e1e4-4383-9f5f-2658942236c5",
   "metadata": {},
   "source": [
    "<b>Exception Handling</b>"
   ]
  },
  {
   "cell_type": "code",
   "execution_count": 24,
   "id": "0ae25376-a5d9-452c-9a0d-a74cca75f68d",
   "metadata": {},
   "outputs": [
    {
     "name": "stdout",
     "output_type": "stream",
     "text": [
      "We cannot divide a number by zero(0)\n"
     ]
    }
   ],
   "source": [
    "try:\n",
    "    result = 10/0\n",
    "except:\n",
    "    print(\"We cannot divide a number by zero(0)\")"
   ]
  },
  {
   "cell_type": "code",
   "execution_count": 29,
   "id": "6649e98e-d95b-4104-8927-654b8d0dc0d8",
   "metadata": {},
   "outputs": [
    {
     "name": "stdin",
     "output_type": "stream",
     "text": [
      "Enter a number 2\n"
     ]
    },
    {
     "name": "stdout",
     "output_type": "stream",
     "text": [
      "Conversion successful!\n",
      "This always runs\n"
     ]
    }
   ],
   "source": [
    "try:\n",
    "    int(input(\"Enter a number\"))\n",
    "except:\n",
    "    print(\"Invalid Input /n Enter a number\")\n",
    "else:\n",
    "    print(\"Conversion successful!\")\n",
    "finally:\n",
    "    print(\"This always runs\")"
   ]
  },
  {
   "cell_type": "code",
   "execution_count": 40,
   "id": "9eba0ddf-4304-47dd-ace2-5e7747a702d2",
   "metadata": {},
   "outputs": [
    {
     "name": "stdin",
     "output_type": "stream",
     "text": [
      "Enter a number as a divider for 10/x: 6\n"
     ]
    },
    {
     "name": "stdout",
     "output_type": "stream",
     "text": [
      "1.6666666666666667\n"
     ]
    }
   ],
   "source": [
    "try:\n",
    "    i= int(input(\"Enter a number as a divider for 10/x:\"))\n",
    "    print(10/i)\n",
    "except ValueError:\n",
    "    print(\"We cannot divide a number by 0\")\n",
    "except TypeError:\n",
    "    print(\"Enter a valid number\")\n",
    "    "
   ]
  },
  {
   "cell_type": "code",
   "execution_count": 42,
   "id": "9c94568e-ab10-4520-8922-5aa4d7e6d85e",
   "metadata": {},
   "outputs": [
    {
     "name": "stdin",
     "output_type": "stream",
     "text": [
      "Enter a number as a divider for 10/x: s\n"
     ]
    },
    {
     "name": "stdout",
     "output_type": "stream",
     "text": [
      "Invalid input or division by zero!\n"
     ]
    }
   ],
   "source": [
    "try:\n",
    "    i= int(input(\"Enter a number as a divider for 10/x:\"))\n",
    "    print(10/i)\n",
    "except (ValueError,TypeError):\n",
    "    print(\"Invalid input or division by zero!\")"
   ]
  },
  {
   "cell_type": "code",
   "execution_count": 43,
   "id": "d36c9d9c-5bcc-4c97-8801-fc9b045c9929",
   "metadata": {},
   "outputs": [
    {
     "ename": "ValueError",
     "evalue": "Number must be positive.",
     "output_type": "error",
     "traceback": [
      "\u001b[1;31m---------------------------------------------------------------------------\u001b[0m",
      "\u001b[1;31mValueError\u001b[0m                                Traceback (most recent call last)",
      "Cell \u001b[1;32mIn[43], line 6\u001b[0m\n\u001b[0;32m      4\u001b[0m     \u001b[38;5;28;01melse\u001b[39;00m:\n\u001b[0;32m      5\u001b[0m         \u001b[38;5;28mprint\u001b[39m(\u001b[38;5;124m\"\u001b[39m\u001b[38;5;124mNumber is valid.\u001b[39m\u001b[38;5;124m\"\u001b[39m)\n\u001b[1;32m----> 6\u001b[0m check_positive(\u001b[38;5;241m-\u001b[39m\u001b[38;5;241m5\u001b[39m)\n",
      "Cell \u001b[1;32mIn[43], line 3\u001b[0m, in \u001b[0;36mcheck_positive\u001b[1;34m(num)\u001b[0m\n\u001b[0;32m      1\u001b[0m \u001b[38;5;28;01mdef\u001b[39;00m\u001b[38;5;250m \u001b[39m\u001b[38;5;21mcheck_positive\u001b[39m(num):\n\u001b[0;32m      2\u001b[0m     \u001b[38;5;28;01mif\u001b[39;00m num \u001b[38;5;241m<\u001b[39m \u001b[38;5;241m0\u001b[39m:\n\u001b[1;32m----> 3\u001b[0m         \u001b[38;5;28;01mraise\u001b[39;00m \u001b[38;5;167;01mValueError\u001b[39;00m(\u001b[38;5;124m\"\u001b[39m\u001b[38;5;124mNumber must be positive.\u001b[39m\u001b[38;5;124m\"\u001b[39m)\n\u001b[0;32m      4\u001b[0m     \u001b[38;5;28;01melse\u001b[39;00m:\n\u001b[0;32m      5\u001b[0m         \u001b[38;5;28mprint\u001b[39m(\u001b[38;5;124m\"\u001b[39m\u001b[38;5;124mNumber is valid.\u001b[39m\u001b[38;5;124m\"\u001b[39m)\n",
      "\u001b[1;31mValueError\u001b[0m: Number must be positive."
     ]
    }
   ],
   "source": [
    "def check_positive(num):\n",
    "    if num < 0:\n",
    "        raise ValueError(\"Number must be positive.\")\n",
    "    else:\n",
    "        print(\"Number is valid.\")\n",
    "check_positive(-5)"
   ]
  },
  {
   "cell_type": "code",
   "execution_count": 47,
   "id": "f0064be0-ed7a-47f2-8bcd-139df66645bb",
   "metadata": {},
   "outputs": [
    {
     "ename": "MyCustomError",
     "evalue": "Custom error!",
     "output_type": "error",
     "traceback": [
      "\u001b[1;31m---------------------------------------------------------------------------\u001b[0m",
      "\u001b[1;31mMyCustomError\u001b[0m                             Traceback (most recent call last)",
      "Cell \u001b[1;32mIn[47], line 9\u001b[0m\n\u001b[0;32m      7\u001b[0m     \u001b[38;5;28;01melse\u001b[39;00m:\n\u001b[0;32m      8\u001b[0m         \u001b[38;5;28mprint\u001b[39m(\u001b[38;5;124m\"\u001b[39m\u001b[38;5;124mInput is fine.\u001b[39m\u001b[38;5;124m\"\u001b[39m)\n\u001b[1;32m----> 9\u001b[0m test_input(\u001b[38;5;124m\"\u001b[39m\u001b[38;5;124merror\u001b[39m\u001b[38;5;124m\"\u001b[39m)\n",
      "Cell \u001b[1;32mIn[47], line 6\u001b[0m, in \u001b[0;36mtest_input\u001b[1;34m(value)\u001b[0m\n\u001b[0;32m      4\u001b[0m \u001b[38;5;28;01mdef\u001b[39;00m\u001b[38;5;250m \u001b[39m\u001b[38;5;21mtest_input\u001b[39m(value):\n\u001b[0;32m      5\u001b[0m     \u001b[38;5;28;01mif\u001b[39;00m value \u001b[38;5;241m==\u001b[39m \u001b[38;5;124m\"\u001b[39m\u001b[38;5;124merror\u001b[39m\u001b[38;5;124m\"\u001b[39m:\n\u001b[1;32m----> 6\u001b[0m         \u001b[38;5;28;01mraise\u001b[39;00m MyCustomError(\u001b[38;5;124m\"\u001b[39m\u001b[38;5;124mCustom error!\u001b[39m\u001b[38;5;124m\"\u001b[39m)\n\u001b[0;32m      7\u001b[0m     \u001b[38;5;28;01melse\u001b[39;00m:\n\u001b[0;32m      8\u001b[0m         \u001b[38;5;28mprint\u001b[39m(\u001b[38;5;124m\"\u001b[39m\u001b[38;5;124mInput is fine.\u001b[39m\u001b[38;5;124m\"\u001b[39m)\n",
      "\u001b[1;31mMyCustomError\u001b[0m: Custom error!"
     ]
    }
   ],
   "source": [
    "class MyCustomError(Exception):\n",
    "    pass\n",
    "\n",
    "def test_input(value):\n",
    "    if value == \"error\":\n",
    "        raise MyCustomError(\"Custom error!\")\n",
    "    else:\n",
    "        print(\"Input is fine.\")\n",
    "test_input(\"error\")\n"
   ]
  },
  {
   "cell_type": "markdown",
   "id": "7054ef51-1dbd-4a93-ae1d-35c425f177b8",
   "metadata": {},
   "source": [
    "<b>File Handling</b>"
   ]
  },
  {
   "cell_type": "code",
   "execution_count": 48,
   "id": "2445beed-6034-46a4-a0ac-cbffb714a009",
   "metadata": {},
   "outputs": [],
   "source": [
    "with open(\"test.txt\", \"w\") as file:\n",
    "    file.write(\"Hello,File!\")"
   ]
  },
  {
   "cell_type": "code",
   "execution_count": 55,
   "id": "3907e5f0-e80a-414e-b51d-163641575491",
   "metadata": {},
   "outputs": [
    {
     "name": "stdout",
     "output_type": "stream",
     "text": [
      "Hello,File!/nThis is a new line.\n",
      "This is a new line.\n"
     ]
    }
   ],
   "source": [
    "with open(\"test.txt\", \"r\") as file:\n",
    "    print(file.read())"
   ]
  },
  {
   "cell_type": "code",
   "execution_count": 54,
   "id": "8f7ed46e-6a32-4b08-8ca2-f2a845d460d9",
   "metadata": {},
   "outputs": [],
   "source": [
    "with open(\"test.txt\",\"a\") as file:\n",
    "    file.write(\"\\nThis is a new line.\")"
   ]
  },
  {
   "cell_type": "code",
   "execution_count": 59,
   "id": "8e376f5d-8e45-4383-8f77-d02b3f71ed01",
   "metadata": {},
   "outputs": [
    {
     "name": "stdout",
     "output_type": "stream",
     "text": [
      "Hello,File!/nThis is a new line.\n",
      "This is a new line.\n"
     ]
    }
   ],
   "source": [
    "with open(\"test.txt\", \"r\") as file:\n",
    "    for line in file:\n",
    "        print(line.strip())"
   ]
  },
  {
   "cell_type": "code",
   "execution_count": 60,
   "id": "cddf34b2-bf07-44d3-9b8d-ad346460baba",
   "metadata": {},
   "outputs": [],
   "source": [
    "with open(\"test.txt\", \"r\") as file:\n",
    "    lines= [line.strip() for line in file.readlines()]"
   ]
  },
  {
   "cell_type": "code",
   "execution_count": 61,
   "id": "8db8e5d8-0d1f-4630-b329-cc2f2d91faf8",
   "metadata": {},
   "outputs": [
    {
     "data": {
      "text/plain": [
       "['Hello,File!/nThis is a new line.', 'This is a new line.']"
      ]
     },
     "execution_count": 61,
     "metadata": {},
     "output_type": "execute_result"
    }
   ],
   "source": [
    "lines"
   ]
  },
  {
   "cell_type": "code",
   "execution_count": 69,
   "id": "1d9c0191-d49c-40d7-8ca2-740bb19feb1c",
   "metadata": {},
   "outputs": [],
   "source": [
    "with open(\"numbers.txt\", \"w\") as file:\n",
    "    for i in range(1,11):\n",
    "        file.write(str(i)+\"\\n\")"
   ]
  },
  {
   "cell_type": "code",
   "execution_count": 70,
   "id": "d9820202-fd92-436a-8db5-f6ea5852d3cc",
   "metadata": {},
   "outputs": [
    {
     "name": "stdout",
     "output_type": "stream",
     "text": [
      "1\n",
      "2\n",
      "3\n",
      "4\n",
      "5\n",
      "6\n",
      "7\n",
      "8\n",
      "9\n",
      "10\n",
      "\n"
     ]
    }
   ],
   "source": [
    "with open(\"numbers.txt\", \"r\") as file:\n",
    "    print(file.read())"
   ]
  },
  {
   "cell_type": "code",
   "execution_count": 71,
   "id": "c05c7f92-bb70-4e29-b4cf-3778df0bd1c7",
   "metadata": {},
   "outputs": [],
   "source": [
    "import os"
   ]
  },
  {
   "cell_type": "code",
   "execution_count": 74,
   "id": "26fc5835-b634-49fb-a23c-330795753cfb",
   "metadata": {},
   "outputs": [
    {
     "data": {
      "text/plain": [
       "False"
      ]
     },
     "execution_count": 74,
     "metadata": {},
     "output_type": "execute_result"
    }
   ],
   "source": [
    "os.path.exists(\"numbers.txt\")"
   ]
  },
  {
   "cell_type": "code",
   "execution_count": 73,
   "id": "538392c5-6e4f-4155-9452-3c6f204cb6b1",
   "metadata": {},
   "outputs": [],
   "source": [
    "os.remove(\"numbers.txt\")"
   ]
  },
  {
   "cell_type": "markdown",
   "id": "e7db3bc8-bef8-4360-be72-2ae52aa82079",
   "metadata": {},
   "source": [
    "<b>Regular Expressions</b>"
   ]
  },
  {
   "cell_type": "code",
   "execution_count": 75,
   "id": "ff5f443d-0b27-4fcb-bc5b-3796147cb5ad",
   "metadata": {},
   "outputs": [],
   "source": [
    "import re"
   ]
  },
  {
   "cell_type": "code",
   "execution_count": 80,
   "id": "26435bf9-3022-4e6e-b5cb-40dd83887935",
   "metadata": {},
   "outputs": [
    {
     "data": {
      "text/plain": [
       "<re.Match object; span=(7, 13), match='python'>"
      ]
     },
     "execution_count": 80,
     "metadata": {},
     "output_type": "execute_result"
    }
   ],
   "source": [
    " n=\"I love python programming\"\n",
    "match=re.search(\"python\",n)\n",
    "match"
   ]
  },
  {
   "cell_type": "code",
   "execution_count": 82,
   "id": "1bda150d-3c98-4281-9488-a4c78d2f6ec8",
   "metadata": {},
   "outputs": [
    {
     "data": {
      "text/plain": [
       "['123', '456']"
      ]
     },
     "execution_count": 82,
     "metadata": {},
     "output_type": "execute_result"
    }
   ],
   "source": [
    "m=\"My number is 123 and yours is 456\"\n",
    "mn=re.findall(r'\\d+',m)\n",
    "mn"
   ]
  },
  {
   "cell_type": "code",
   "execution_count": 84,
   "id": "8839b972-9b6c-44eb-87ba-90f812273c35",
   "metadata": {},
   "outputs": [
    {
     "data": {
      "text/plain": [
       "['My', 'number', 'is', '123', 'and', 'yours', 'is', '456']"
      ]
     },
     "execution_count": 84,
     "metadata": {},
     "output_type": "execute_result"
    }
   ],
   "source": [
    "m=\"My number is 123 and yours is 456\"\n",
    "ms=re.split(r'[ ,.]',m)\n",
    "ms"
   ]
  },
  {
   "cell_type": "code",
   "execution_count": 86,
   "id": "783aa6b5-8402-4ea1-81cc-215ab060b151",
   "metadata": {},
   "outputs": [
    {
     "name": "stdout",
     "output_type": "stream",
     "text": [
      "['test@example.com', 'hello@world.org']\n"
     ]
    }
   ],
   "source": [
    "pattern = r'\\w+@\\w+\\.\\w+'\n",
    "emails = [\"test@example.com\", \"hello@world.org\", \"not-an-email\", \"abc@xyz\"]\n",
    "matches = [email for email in emails if re.fullmatch(pattern, email)]\n",
    "print(matches)\n"
   ]
  },
  {
   "cell_type": "code",
   "execution_count": 87,
   "id": "0abd9b57-276b-49f1-9f5b-0501106efa63",
   "metadata": {},
   "outputs": [
    {
     "name": "stdout",
     "output_type": "stream",
     "text": [
      "I_love_python_programming\n"
     ]
    }
   ],
   "source": [
    "n = \"I love python programming\"\n",
    "new_text = re.sub(r' ', '_', n)\n",
    "print(new_text)\n"
   ]
  },
  {
   "cell_type": "code",
   "execution_count": 88,
   "id": "94365a30-af0f-404a-9e7f-5a1a17f10ce0",
   "metadata": {},
   "outputs": [
    {
     "name": "stdout",
     "output_type": "stream",
     "text": [
      "['235-775-4568']\n"
     ]
    }
   ],
   "source": [
    "pattern = r'\\d{3}-\\d{3}-\\d{4}'\n",
    "numb = [\"235-775-4568\", \"2433-467-432\", \"3357687\", \"1\"]\n",
    "matches = [numb for numb in numb if re.fullmatch(pattern, numb)]\n",
    "print(matches)"
   ]
  },
  {
   "cell_type": "code",
   "execution_count": 96,
   "id": "334b63c6-f44c-4bad-9a58-fdc64f9d2cbe",
   "metadata": {},
   "outputs": [
    {
     "data": {
      "text/plain": [
       "<re.Match object; span=(0, 1), match='I'>"
      ]
     },
     "execution_count": 96,
     "metadata": {},
     "output_type": "execute_result"
    }
   ],
   "source": [
    "pattern = re.compile(r'\\w+')\n",
    "match = pattern.search(n)\n",
    "match\n"
   ]
  },
  {
   "cell_type": "code",
   "execution_count": 97,
   "id": "cd19600a-2521-4df3-97df-56f106566f1b",
   "metadata": {},
   "outputs": [
    {
     "name": "stdout",
     "output_type": "stream",
     "text": [
      "['I']\n"
     ]
    }
   ],
   "source": [
    "pattern = r'\\b[A-Z]\\w*'\n",
    "capital_words = re.findall(pattern, n)\n",
    "print(capital_words)\n"
   ]
  },
  {
   "cell_type": "code",
   "execution_count": 99,
   "id": "8a51f882-2053-4be4-8bc5-46ce143ccb50",
   "metadata": {},
   "outputs": [
    {
     "name": "stdout",
     "output_type": "stream",
     "text": [
      "Match!\n"
     ]
    }
   ],
   "source": [
    "text = \"Hello  World\"\n",
    "\n",
    "pattern = r'^Hello  World$'\n",
    "\n",
    "if re.fullmatch(pattern, text):\n",
    "    print(\"Match!\")\n",
    "else:\n",
    "    print(\"No match.\")\n"
   ]
  },
  {
   "cell_type": "markdown",
   "id": "281446b4-2863-4147-a099-94a181d026ab",
   "metadata": {},
   "source": [
    "<b>Database Interaction</b>"
   ]
  },
  {
   "cell_type": "code",
   "execution_count": 100,
   "id": "6f0ac9fa-cbca-4cc6-bac7-454d7272cca1",
   "metadata": {},
   "outputs": [],
   "source": [
    "import sqlite3"
   ]
  },
  {
   "cell_type": "code",
   "execution_count": 101,
   "id": "a860a8d4-645f-4b04-8b44-4c29af75c754",
   "metadata": {},
   "outputs": [],
   "source": [
    "conn = sqlite3.connect(\"test.db\")"
   ]
  },
  {
   "cell_type": "code",
   "execution_count": 102,
   "id": "c4549217-4e55-47f7-b0eb-86037936d238",
   "metadata": {},
   "outputs": [],
   "source": [
    "cursor = conn.cursor()"
   ]
  },
  {
   "cell_type": "code",
   "execution_count": 103,
   "id": "67534c37-5e99-452b-8de6-7a7b4333ad6b",
   "metadata": {},
   "outputs": [
    {
     "data": {
      "text/plain": [
       "<sqlite3.Cursor at 0x1ee742f25c0>"
      ]
     },
     "execution_count": 103,
     "metadata": {},
     "output_type": "execute_result"
    }
   ],
   "source": [
    "cursor.execute(\"\"\"\n",
    "CREATE TABLE IF NOT EXISTS users (\n",
    "    id INTEGER PRIMARY KEY,\n",
    "    name TEXT,\n",
    "    age INTEGER\n",
    ")\n",
    "\"\"\")"
   ]
  },
  {
   "cell_type": "code",
   "execution_count": null,
   "id": "f9eaa8d9-4359-477e-a0e8-1a556a6ada8e",
   "metadata": {},
   "outputs": [],
   "source": []
  },
  {
   "cell_type": "markdown",
   "id": "e32683a7-cb98-4276-86ea-947a65829975",
   "metadata": {},
   "source": [
    "<h1>Application</h1>"
   ]
  },
  {
   "cell_type": "markdown",
   "id": "e3d326ff-c8ba-4ba0-b7b4-661a64e819af",
   "metadata": {},
   "source": [
    "<b>Web development (using flask)</b>"
   ]
  },
  {
   "cell_type": "code",
   "execution_count": 2,
   "id": "7dd6e07d-406e-4d8d-87eb-22694fc6bebd",
   "metadata": {},
   "outputs": [
    {
     "name": "stdout",
     "output_type": "stream",
     "text": [
      "Requirement already satisfied: flask in c:\\users\\traor\\anaconda3\\lib\\site-packages (3.1.0)\n",
      "Requirement already satisfied: Werkzeug>=3.1 in c:\\users\\traor\\anaconda3\\lib\\site-packages (from flask) (3.1.3)\n",
      "Requirement already satisfied: Jinja2>=3.1.2 in c:\\users\\traor\\anaconda3\\lib\\site-packages (from flask) (3.1.6)\n",
      "Requirement already satisfied: itsdangerous>=2.2 in c:\\users\\traor\\anaconda3\\lib\\site-packages (from flask) (2.2.0)\n",
      "Requirement already satisfied: click>=8.1.3 in c:\\users\\traor\\anaconda3\\lib\\site-packages (from flask) (8.1.8)\n",
      "Requirement already satisfied: blinker>=1.9 in c:\\users\\traor\\anaconda3\\lib\\site-packages (from flask) (1.9.0)\n",
      "Requirement already satisfied: colorama in c:\\users\\traor\\anaconda3\\lib\\site-packages (from click>=8.1.3->flask) (0.4.6)\n",
      "Requirement already satisfied: MarkupSafe>=2.0 in c:\\users\\traor\\anaconda3\\lib\\site-packages (from Jinja2>=3.1.2->flask) (3.0.2)\n",
      "Note: you may need to restart the kernel to use updated packages.\n"
     ]
    }
   ],
   "source": [
    "pip install flask"
   ]
  },
  {
   "cell_type": "code",
   "execution_count": 4,
   "id": "a52a21fa-d674-4d71-bca3-11f4733c10d5",
   "metadata": {},
   "outputs": [
    {
     "name": "stdout",
     "output_type": "stream",
     "text": [
      " * Serving Flask app '__main__'\n",
      " * Debug mode: on\n"
     ]
    },
    {
     "name": "stderr",
     "output_type": "stream",
     "text": [
      "WARNING: This is a development server. Do not use it in a production deployment. Use a production WSGI server instead.\n",
      " * Running on http://127.0.0.1:5000\n",
      "Press CTRL+C to quit\n",
      " * Restarting with watchdog (windowsapi)\n"
     ]
    },
    {
     "ename": "SystemExit",
     "evalue": "1",
     "output_type": "error",
     "traceback": [
      "An exception has occurred, use %tb to see the full traceback.\n",
      "\u001b[1;31mSystemExit\u001b[0m\u001b[1;31m:\u001b[0m 1\n"
     ]
    }
   ],
   "source": [
    "from flask import Flask, render_template, request\n",
    "\n",
    "app = Flask(__name__)\n",
    "\n",
    "@app.route('/')\n",
    "def home():\n",
    "    return \"Hello, World!\"\n",
    "\n",
    "@app.route('/about')\n",
    "def about():\n",
    "    return \"My name is Nouhr Emmanuel, a student passionate about technology and sustainability.\"\n",
    "\n",
    "@app.route('/user/<name>')\n",
    "def user(name):\n",
    "    return f\"Hello, {name}!\"\n",
    "\n",
    "@app.route('/index', methods=['GET', 'POST'])\n",
    "def index():\n",
    "    username = None\n",
    "    if request.method == 'POST':\n",
    "        username = request.form.get('username')\n",
    "    return render_template('index.html', username=username)\n",
    "\n",
    "@app.route('/login', methods=['GET', 'POST'])\n",
    "def login():\n",
    "    if request.method == 'POST':\n",
    "        username = request.form.get('username')\n",
    "        password = request.form.get('password')\n",
    "        print(f\"Username: {username}, Password: {password}\")\n",
    "        return \"Login data received! Check the console for details.\"\n",
    "\n",
    "    return '''\n",
    "        <form method=\"POST\">\n",
    "            <label>Username:</label>\n",
    "            <input type=\"text\" name=\"username\" required><br><br>\n",
    "            <label>Password:</label>\n",
    "            <input type=\"password\" name=\"password\" required><br><br>\n",
    "            <button type=\"submit\">Login</button>\n",
    "        </form>\n",
    "    '''\n",
    "\n",
    "if __name__ == '__main__':\n",
    "    app.run(debug=True)\n"
   ]
  },
  {
   "cell_type": "markdown",
   "id": "78e62e4c-7e42-43b1-b71b-28da3f1d79ae",
   "metadata": {},
   "source": [
    "## Data Science and Machine Learning"
   ]
  },
  {
   "cell_type": "code",
   "execution_count": 5,
   "id": "e0a8e970-4cc3-4a2c-a38f-9f7ef05135bc",
   "metadata": {},
   "outputs": [
    {
     "name": "stdout",
     "output_type": "stream",
     "text": [
      "Requirement already satisfied: numpy in c:\\users\\traor\\anaconda3\\lib\\site-packages (2.1.3)\n",
      "Requirement already satisfied: pandas in c:\\users\\traor\\anaconda3\\lib\\site-packages (2.2.3)\n",
      "Requirement already satisfied: matplotlib in c:\\users\\traor\\anaconda3\\lib\\site-packages (3.10.0)\n",
      "Requirement already satisfied: scikit-learn in c:\\users\\traor\\anaconda3\\lib\\site-packages (1.6.1)\n",
      "Requirement already satisfied: python-dateutil>=2.8.2 in c:\\users\\traor\\anaconda3\\lib\\site-packages (from pandas) (2.9.0.post0)\n",
      "Requirement already satisfied: pytz>=2020.1 in c:\\users\\traor\\anaconda3\\lib\\site-packages (from pandas) (2024.1)\n",
      "Requirement already satisfied: tzdata>=2022.7 in c:\\users\\traor\\anaconda3\\lib\\site-packages (from pandas) (2025.2)\n",
      "Requirement already satisfied: contourpy>=1.0.1 in c:\\users\\traor\\anaconda3\\lib\\site-packages (from matplotlib) (1.3.1)\n",
      "Requirement already satisfied: cycler>=0.10 in c:\\users\\traor\\anaconda3\\lib\\site-packages (from matplotlib) (0.11.0)\n",
      "Requirement already satisfied: fonttools>=4.22.0 in c:\\users\\traor\\anaconda3\\lib\\site-packages (from matplotlib) (4.55.3)\n",
      "Requirement already satisfied: kiwisolver>=1.3.1 in c:\\users\\traor\\anaconda3\\lib\\site-packages (from matplotlib) (1.4.8)\n",
      "Requirement already satisfied: packaging>=20.0 in c:\\users\\traor\\anaconda3\\lib\\site-packages (from matplotlib) (24.2)\n",
      "Requirement already satisfied: pillow>=8 in c:\\users\\traor\\anaconda3\\lib\\site-packages (from matplotlib) (11.1.0)\n",
      "Requirement already satisfied: pyparsing>=2.3.1 in c:\\users\\traor\\anaconda3\\lib\\site-packages (from matplotlib) (3.2.0)\n",
      "Requirement already satisfied: scipy>=1.6.0 in c:\\users\\traor\\anaconda3\\lib\\site-packages (from scikit-learn) (1.15.3)\n",
      "Requirement already satisfied: joblib>=1.2.0 in c:\\users\\traor\\anaconda3\\lib\\site-packages (from scikit-learn) (1.4.2)\n",
      "Requirement already satisfied: threadpoolctl>=3.1.0 in c:\\users\\traor\\anaconda3\\lib\\site-packages (from scikit-learn) (3.5.0)\n",
      "Requirement already satisfied: six>=1.5 in c:\\users\\traor\\anaconda3\\lib\\site-packages (from python-dateutil>=2.8.2->pandas) (1.17.0)\n"
     ]
    }
   ],
   "source": [
    "!pip install numpy pandas matplotlib scikit-learn\n",
    "import numpy as np\n",
    "import pandas as pd\n",
    "import matplotlib.pyplot as plt\n",
    "from sklearn import datasets\n",
    "from sklearn.model_selection import train_test_split\n"
   ]
  },
  {
   "cell_type": "code",
   "execution_count": 6,
   "id": "0f2102ae-2b6b-4982-b062-def2561abb80",
   "metadata": {},
   "outputs": [
    {
     "name": "stdout",
     "output_type": "stream",
     "text": [
      "[1 2 3 4 5]\n"
     ]
    }
   ],
   "source": [
    "a = np.array([1, 2, 3, 4, 5])\n",
    "a\n"
   ]
  },
  {
   "cell_type": "code",
   "execution_count": 7,
   "id": "0364ff79-1b9f-4812-bd3d-854e94ef94b8",
   "metadata": {},
   "outputs": [
    {
     "data": {
      "text/plain": [
       "array([[0., 0., 0.],\n",
       "       [0., 0., 0.]])"
      ]
     },
     "execution_count": 7,
     "metadata": {},
     "output_type": "execute_result"
    }
   ],
   "source": [
    "zeros_array = np.zeros((2, 3))\n",
    "zeros_array\n"
   ]
  },
  {
   "cell_type": "code",
   "execution_count": 10,
   "id": "2484463e-d082-483a-ac52-2663c44e1623",
   "metadata": {},
   "outputs": [
    {
     "name": "stdout",
     "output_type": "stream",
     "text": [
      "0      Alice\n",
      "1        Bob\n",
      "2    Charlie\n",
      "dtype: object\n"
     ]
    }
   ],
   "source": [
    "serie = pd.Series(['Alice', 'Bob', 'Charlie'])\n",
    "print(serie)\n"
   ]
  },
  {
   "cell_type": "code",
   "execution_count": 11,
   "id": "498fbc13-3d94-40eb-93b1-9f2257444884",
   "metadata": {},
   "outputs": [
    {
     "name": "stdout",
     "output_type": "stream",
     "text": [
      "    Name  Age\n",
      "0  Alice   25\n",
      "1    Bob   30\n"
     ]
    }
   ],
   "source": [
    "data = {'Name': ['Alice', 'Bob'], 'Age': [25, 30]}\n",
    "df = pd.DataFrame(data)\n",
    "print(df)\n"
   ]
  },
  {
   "cell_type": "code",
   "execution_count": 12,
   "id": "026bed3b-4785-40c5-a77a-fdddd4fe7177",
   "metadata": {},
   "outputs": [
    {
     "name": "stdout",
     "output_type": "stream",
     "text": [
      "   sepal length (cm)  sepal width (cm)  petal length (cm)  petal width (cm)  \\\n",
      "0                5.1               3.5                1.4               0.2   \n",
      "1                4.9               3.0                1.4               0.2   \n",
      "2                4.7               3.2                1.3               0.2   \n",
      "3                4.6               3.1                1.5               0.2   \n",
      "4                5.0               3.6                1.4               0.2   \n",
      "\n",
      "   target  \n",
      "0       0  \n",
      "1       0  \n",
      "2       0  \n",
      "3       0  \n",
      "4       0  \n",
      "<class 'pandas.core.frame.DataFrame'>\n",
      "RangeIndex: 150 entries, 0 to 149\n",
      "Data columns (total 5 columns):\n",
      " #   Column             Non-Null Count  Dtype  \n",
      "---  ------             --------------  -----  \n",
      " 0   sepal length (cm)  150 non-null    float64\n",
      " 1   sepal width (cm)   150 non-null    float64\n",
      " 2   petal length (cm)  150 non-null    float64\n",
      " 3   petal width (cm)   150 non-null    float64\n",
      " 4   target             150 non-null    int64  \n",
      "dtypes: float64(4), int64(1)\n",
      "memory usage: 6.0 KB\n",
      "None\n"
     ]
    }
   ],
   "source": [
    "iris = datasets.load_iris()\n",
    "iris_df = pd.DataFrame(iris.data, columns=iris.feature_names)\n",
    "iris_df['target'] = iris.target\n",
    "\n",
    "print(iris_df.head())\n",
    "print(iris_df.info())\n"
   ]
  },
  {
   "cell_type": "code",
   "execution_count": 13,
   "id": "d0575518-39b9-473a-8082-339597abd890",
   "metadata": {},
   "outputs": [
    {
     "data": {
      "image/png": "[encoded data removed]",
      "text/plain": [
       "<Figure size 640x480 with 1 Axes>"
      ]
     },
     "metadata": {},
     "output_type": "display_data"
    }
   ],
   "source": [
    "plt.plot([1, 2, 3, 4, 5], [2, 3, 5, 7, 11])\n",
    "plt.title(\"Simple Line Plot\")\n",
    "plt.xlabel(\"X-axis\")\n",
    "plt.ylabel(\"Y-axis\")\n",
    "plt.show()\n"
   ]
  },
  {
   "cell_type": "code",
   "execution_count": 14,
   "id": "d2ee7138-186a-4c25-bf1e-a17252f6278e",
   "metadata": {},
   "outputs": [
    {
     "data": {
      "image/png": "[encoded data removed]",
      "text/plain": [
       "<Figure size 640x480 with 1 Axes>"
      ]
     },
     "metadata": {},
     "output_type": "display_data"
    }
   ],
   "source": [
    "plt.scatter(iris_df['sepal length (cm)'], iris_df['sepal width (cm)'])\n",
    "plt.title(\"Iris Sepal Length vs Width\")\n",
    "plt.xlabel(\"Sepal Length (cm)\")\n",
    "plt.ylabel(\"Sepal Width (cm)\")\n",
    "plt.show()\n"
   ]
  },
  {
   "cell_type": "code",
   "execution_count": 15,
   "id": "dd06fecf-b7e1-4237-916d-221ddb2fb38a",
   "metadata": {},
   "outputs": [
    {
     "name": "stdout",
     "output_type": "stream",
     "text": [
      "Training set size: 120\n",
      "Testing set size: 30\n"
     ]
    }
   ],
   "source": [
    "X_train, X_test, y_train, y_test = train_test_split(\n",
    "    iris.data, iris.target, test_size=0.2, random_state=42\n",
    ")\n",
    "print(\"Training set size:\", len(X_train))\n",
    "print(\"Testing set size:\", len(X_test))\n"
   ]
  },
  {
   "cell_type": "markdown",
   "id": "8efe5a20-9b71-4ec3-a1cc-ad1c97e02664",
   "metadata": {},
   "source": [
    "## Graphical User Interface (GUI) Development Using Tkinter"
   ]
  },
  {
   "cell_type": "code",
   "execution_count": 16,
   "id": "f2153f42-5618-4b42-9b0a-39eacac64b21",
   "metadata": {},
   "outputs": [],
   "source": [
    "import tkinter as tk"
   ]
  },
  {
   "cell_type": "code",
   "execution_count": 17,
   "id": "fc743fac-8982-444d-a2c1-c657c8a95dbe",
   "metadata": {},
   "outputs": [
    {
     "data": {
      "text/plain": [
       "''"
      ]
     },
     "execution_count": 17,
     "metadata": {},
     "output_type": "execute_result"
    }
   ],
   "source": [
    "root = tk.Tk()\n",
    "root.title(\"My First Tkinter App\")\n"
   ]
  },
  {
   "cell_type": "code",
   "execution_count": 18,
   "id": "07104080-28c2-44dd-a821-d30cdd450993",
   "metadata": {},
   "outputs": [],
   "source": [
    "label = tk.Label(root, text=\"Hello, Tkinter!\")\n",
    "label.pack()"
   ]
  },
  {
   "cell_type": "code",
   "execution_count": 19,
   "id": "f12246cb-9f98-4936-80ba-40e08c45c03c",
   "metadata": {},
   "outputs": [],
   "source": [
    "def say_hello():\n",
    "    print(\"Hello!\")\n",
    "\n",
    "button = tk.Button(root, text=\"Click Me\", command=say_hello)\n",
    "button.pack()"
   ]
  },
  {
   "cell_type": "code",
   "execution_count": 20,
   "id": "9bac5143-a8f4-4cce-a1fd-ad8c55e9363a",
   "metadata": {},
   "outputs": [],
   "source": [
    "entry = tk.Entry(root)\n",
    "entry.pack()\n",
    "\n",
    "def show_input():\n",
    "    print(\"You typed:\", entry.get())\n",
    "\n",
    "button2 = tk.Button(root, text=\"Show Input\", command=show_input)\n",
    "button2.pack()"
   ]
  },
  {
   "cell_type": "code",
   "execution_count": 2,
   "id": "31829570-2bc0-461a-9518-2e7293abccfb",
   "metadata": {},
   "outputs": [],
   "source": [
    "label.config(bg=\"lightblue\")"
   ]
  },
  {
   "cell_type": "markdown",
   "id": "691d680f-ca5e-4b3b-bb80-b7abd5f2745a",
   "metadata": {},
   "source": [
    "## Web Scraping (Using BeautifulSoup & Requests)"
   ]
  },
  {
   "cell_type": "code",
   "execution_count": 3,
   "id": "f9154c82-b368-4e65-aa20-ff6afaf8a249",
   "metadata": {},
   "outputs": [
    {
     "name": "stdout",
     "output_type": "stream",
     "text": [
      "Requirement already satisfied: beautifulsoup4 in c:\\users\\traor\\anaconda3\\lib\\site-packages (4.12.3)\n",
      "Requirement already satisfied: requests in c:\\users\\traor\\anaconda3\\lib\\site-packages (2.32.3)\n",
      "Requirement already satisfied: soupsieve>1.2 in c:\\users\\traor\\anaconda3\\lib\\site-packages (from beautifulsoup4) (2.5)\n",
      "Requirement already satisfied: charset-normalizer<4,>=2 in c:\\users\\traor\\anaconda3\\lib\\site-packages (from requests) (3.3.2)\n",
      "Requirement already satisfied: idna<4,>=2.5 in c:\\users\\traor\\anaconda3\\lib\\site-packages (from requests) (3.7)\n",
      "Requirement already satisfied: urllib3<3,>=1.21.1 in c:\\users\\traor\\anaconda3\\lib\\site-packages (from requests) (2.3.0)\n",
      "Requirement already satisfied: certifi>=2017.4.17 in c:\\users\\traor\\anaconda3\\lib\\site-packages (from requests) (2025.4.26)\n"
     ]
    }
   ],
   "source": [
    "!pip install beautifulsoup4 requests\n"
   ]
  },
  {
   "cell_type": "code",
   "execution_count": 6,
   "id": "646734fe-4877-4186-942d-b9eb047d4d6c",
   "metadata": {},
   "outputs": [],
   "source": [
    "import requests\n",
    "from bs4 import BeautifulSoup\n",
    "\n",
    "url = \"http://iugb.edu.ci/\"\n",
    "response = requests.get(url)"
   ]
  },
  {
   "cell_type": "code",
   "execution_count": 7,
   "id": "4d43dc1b-47a3-4975-9a6b-3ff3e3660c60",
   "metadata": {},
   "outputs": [
    {
     "name": "stdout",
     "output_type": "stream",
     "text": [
      "Status Code: 406\n"
     ]
    }
   ],
   "source": [
    "print(\"Status Code:\", response.status_code)"
   ]
  },
  {
   "cell_type": "code",
   "execution_count": 8,
   "id": "6a53a770-ed40-48a9-844a-c4c81ac568fa",
   "metadata": {},
   "outputs": [
    {
     "name": "stdout",
     "output_type": "stream",
     "text": [
      "<head><title>Not Acceptable!</title></head><body><h1>Not Acceptable!</h1><p>An appropriate representation of the requested resource could not be found\n"
     ]
    }
   ],
   "source": [
    "print(response.text[:150])\n"
   ]
  },
  {
   "cell_type": "code",
   "execution_count": 10,
   "id": "3e7eb722-1378-47b5-995b-291c6aedfbd9",
   "metadata": {},
   "outputs": [
    {
     "data": {
      "text/plain": [
       "<head><title>Not Acceptable!</title></head><body><h1>Not Acceptable!</h1><p>An appropriate representation of the requested resource could not be found on this server. This error was generated by Mod_Security.</p><script>(function(){function c(){var b=a.contentDocument||a.contentWindow.document;if(b){var d=b.createElement('script');d.innerHTML=\"window.__CF$cv$params={r:'98c2535039a2b7a4',t:'MTc2MDA1OTU0My4wMDAwMDA='};var a=document.createElement('script');a.nonce='';a.src='/cdn-cgi/challenge-platform/scripts/jsd/main.js';document.getElementsByTagName('head')[0].appendChild(a);\";b.getElementsByTagName('head')[0].appendChild(d)}}if(document.body){var a=document.createElement('iframe');a.height=1;a.width=1;a.style.position='absolute';a.style.top=0;a.style.left=0;a.style.border='none';a.style.visibility='hidden';document.body.appendChild(a);if('loading'!==document.readyState)c();else if(window.addEventListener)document.addEventListener('DOMContentLoaded',c);else{var e=document.onreadystatechange||function(){};document.onreadystatechange=function(b){e(b);'loading'!==document.readyState&&(document.onreadystatechange=e,c())}}}})();</script></body>"
      ]
     },
     "execution_count": 10,
     "metadata": {},
     "output_type": "execute_result"
    }
   ],
   "source": [
    "soup = BeautifulSoup(response.text, \"html.parser\")\n",
    "soup"
   ]
  },
  {
   "cell_type": "code",
   "execution_count": 11,
   "id": "e7d95902-bfcc-467a-b2a5-a2648251e438",
   "metadata": {},
   "outputs": [
    {
     "name": "stdout",
     "output_type": "stream",
     "text": [
      "<head>\n",
      " <title>\n",
      "  Not Acceptable!\n",
      " </title>\n",
      "</head>\n",
      "<body>\n",
      " <h1>\n",
      "  Not Acceptable!\n",
      " </h1>\n",
      " <p>\n",
      "  An appropriate representation of the requested resource could not be found on this server. This error was generated by Mod_Security.\n",
      " </p>\n",
      " <script>\n",
      "  (function(){function c(){var b=a.contentDocument||a.contentWindow.document;if(b){var d=b.createElement('script');d.innerHTML=\"window.__CF$cv$params={r:'98c2535039a2b7a4',t:'MTc2MDA1OTU0My4wMDAwMDA='};var a=document.createElement('script');a.nonce='';a.src='/cdn-cgi/challenge-platform/scripts/jsd/main.js';document.getElementsByTagName('head')[0].appendChild(a);\";b.getElementsByTagName('head')[0].appendChild(d)}}if(document.body){var a=document.createElement('iframe');a.height=1;a.width=1;a.style.position='absolute';a.style.top=0;a.style.left=0;a.style.border='none';a.style.visibility='hidden';document.body.appendChild(a);if('loading'!==document.readyState)c();else if(window.addEventListener)document.addEventListener('DOMContentLoaded',c);else{\n"
     ]
    }
   ],
   "source": [
    "print(soup.prettify()[:1000])\n"
   ]
  },
  {
   "cell_type": "code",
   "execution_count": 12,
   "id": "8aca63e0-7966-4642-805a-24d0634efda1",
   "metadata": {},
   "outputs": [
    {
     "name": "stdout",
     "output_type": "stream",
     "text": [
      "H1 Text: Not Acceptable!\n"
     ]
    }
   ],
   "source": [
    "h1_tag = soup.find('h1')\n",
    "if h1_tag:\n",
    "    print(\"H1 Text:\", h1_tag.get_text())\n",
    "else:\n",
    "    print(\"No <h1> tag found.\")\n"
   ]
  },
  {
   "cell_type": "code",
   "execution_count": 13,
   "id": "dfbf761a-511a-4622-8ab3-315f688f01fb",
   "metadata": {},
   "outputs": [
    {
     "name": "stdout",
     "output_type": "stream",
     "text": [
      "Paragraph 1: An appropriate representation of the requested resource could not be found on this server. This error was generated by Mod_Security.\n"
     ]
    }
   ],
   "source": [
    "paragraphs = soup.find_all('p')\n",
    "for i, p in enumerate(paragraphs, start=1):\n",
    "    print(f\"Paragraph {i}:\", p.get_text().strip())"
   ]
  },
  {
   "cell_type": "code",
   "execution_count": 14,
   "id": "a7fa3b5c-57c4-4a6a-a689-ddddca73d998",
   "metadata": {},
   "outputs": [],
   "source": [
    "links = soup.find_all('a')\n",
    "for i, link in enumerate(links, start=1):\n",
    "    href = link.get('href')\n",
    "    print(f\"Link {i}: {href}\")\n"
   ]
  },
  {
   "cell_type": "code",
   "execution_count": 15,
   "id": "8168e705-3423-49b3-9294-0decae915aea",
   "metadata": {},
   "outputs": [
    {
     "name": "stdout",
     "output_type": "stream",
     "text": [
      "No element found with that ID.\n"
     ]
    }
   ],
   "source": [
    "element = soup.find(id=\"some-id\")\n",
    "if element:\n",
    "    print(\"Element found:\", element.get_text())\n",
    "else:\n",
    "    print(\"No element found with that ID.\")\n",
    "\n",
    "element\n"
   ]
  },
  {
   "cell_type": "code",
   "execution_count": null,
   "id": "cf162bc2-bad1-41fd-aee9-343809afed8f",
   "metadata": {},
   "outputs": [],
   "source": []
  }
 ],
 "metadata": {
  "kernelspec": {
   "display_name": "Python 3 (ipykernel)",
   "language": "python",
   "name": "python3"
  },
  "language_info": {
   "codemirror_mode": {
    "name": "ipython",
    "version": 3
   },
   "file_extension": ".py",
   "mimetype": "text/x-python",
   "name": "python",
   "nbconvert_exporter": "python",
   "pygments_lexer": "ipython3",
   "version": "3.13.5"
  }
 },
 "nbformat": 4,
 "nbformat_minor": 5
}
