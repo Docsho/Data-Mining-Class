{
 "cells": [
  {
   "cell_type": "code",
   "execution_count": 1,
   "id": "941909b2-30e0-47e9-a43a-43286b76a7b4",
   "metadata": {},
   "outputs": [
    {
     "name": "stdin",
     "output_type": "stream",
     "text": [
      "Enter a number 2\n"
     ]
    },
    {
     "name": "stdout",
     "output_type": "stream",
     "text": [
      "2 is between 1 and 100\n"
     ]
    }
   ],
   "source": [
    "age=int(input('Enter a number'))\n",
    "if age < 100 and age > 1:\n",
    "    print(age,'is between 1 and 100')\n",
    "else:\n",
    "    print(age,'is not between 1 and 100')"
   ]
  },
  {
   "cell_type": "code",
   "execution_count": 2,
   "id": "5aa4110a-e214-490d-8473-200a1d2fa3d5",
   "metadata": {},
   "outputs": [
    {
     "name": "stdin",
     "output_type": "stream",
     "text": [
      "Enter the letter e\n"
     ]
    },
    {
     "name": "stdout",
     "output_type": "stream",
     "text": [
      "e is either a, e, i, o, or u\n"
     ]
    }
   ],
   "source": [
    "char=input('Enter the letter')\n",
    "if char=='a' or char=='e' or char=='i' or char=='o' or char=='u':\n",
    "   print(char,'is either a, e, i, o, or u')\n",
    "else:\n",
    "    print(char,'is neither a, e, i, o, or u')"
   ]
  },
  {
   "cell_type": "code",
   "execution_count": 3,
   "id": "7c9fd42c-cccc-4cff-b5ca-2e6c4799727e",
   "metadata": {},
   "outputs": [
    {
     "name": "stdout",
     "output_type": "stream",
     "text": [
      "Before: True\n",
      "After: False\n"
     ]
    }
   ],
   "source": [
    "is_raining = True\n",
    "print('Before:', is_raining)\n",
    "\n",
    "is_raining = not is_raining\n",
    "print('After:', is_raining)"
   ]
  },
  {
   "cell_type": "code",
   "execution_count": 4,
   "id": "0c6b7135-2d6e-43f7-8bed-7dcf097c0652",
   "metadata": {},
   "outputs": [
    {
     "data": {
      "text/plain": [
       "False"
      ]
     },
     "execution_count": 4,
     "metadata": {},
     "output_type": "execute_result"
    }
   ],
   "source": [
    " [1,2,3] is [1,2,3]\n",
    "\n",
    "#The operator is checks object identity (whether two variables point to the same object in memory).\n",
    "#Each [1,2,3] creates a new list object, even though their contents look the same.\n",
    "#Since they’re two different objects stored at different memory addresses, is says False."
   ]
  },
  {
   "cell_type": "code",
   "execution_count": 5,
   "id": "d13b1683-107d-42f4-8145-8fe707bcf576",
   "metadata": {},
   "outputs": [
    {
     "data": {
      "text/plain": [
       "True"
      ]
     },
     "execution_count": 5,
     "metadata": {},
     "output_type": "execute_result"
    }
   ],
   "source": [
    "5 in [1,2,3,4,5]"
   ]
  },
  {
   "cell_type": "markdown",
   "id": "8cb714eb-c14b-496e-9cb6-0e93acc5ee53",
   "metadata": {},
   "source": [
    "#Control flow"
   ]
  },
  {
   "cell_type": "code",
   "execution_count": 6,
   "id": "357fe87f-040c-42ec-9a23-2e0e1f067de2",
   "metadata": {},
   "outputs": [
    {
     "name": "stdin",
     "output_type": "stream",
     "text": [
      "Enter a number 5\n"
     ]
    },
    {
     "name": "stdout",
     "output_type": "stream",
     "text": [
      "Positive\n"
     ]
    }
   ],
   "source": [
    "\n",
    "n=int(input('Enter a number'))\n",
    "if n>0:\n",
    "    print('Positive')"
   ]
  },
  {
   "cell_type": "code",
   "execution_count": 15,
   "id": "f2a9e3c6-d749-4fc6-ae7a-62fa1f2e9081",
   "metadata": {},
   "outputs": [
    {
     "name": "stdin",
     "output_type": "stream",
     "text": [
      "Enter a number 9\n"
     ]
    },
    {
     "name": "stdout",
     "output_type": "stream",
     "text": [
      "This number is odd\n"
     ]
    }
   ],
   "source": [
    "n=int(input('Enter a number'))\n",
    "if n%2==0:\n",
    "    print('This number is even')\n",
    "else:\n",
    "    print('This number is odd')"
   ]
  },
  {
   "cell_type": "code",
   "execution_count": 21,
   "id": "6931bc1d-03ef-4cef-988a-70500b6750a8",
   "metadata": {},
   "outputs": [
    {
     "name": "stdin",
     "output_type": "stream",
     "text": [
      "Enter your grade 92\n"
     ]
    },
    {
     "name": "stdout",
     "output_type": "stream",
     "text": [
      "A\n"
     ]
    }
   ],
   "source": [
    "n=int(input('Enter your grade:'))\n",
    "if n<60:\n",
    "    print('F')\n",
    "elif n>=60 and n<70:\n",
    "    print('D')\n",
    "elif n>=70 and n<80:\n",
    "    print('C')\n",
    "elif n>=80 and n<90:\n",
    "    print('B')\n",
    "else:\n",
    "    print('A')"
   ]
  },
  {
   "cell_type": "code",
   "execution_count": 22,
   "id": "31ff51f8-95d9-4ca9-a561-2a9244fc954f",
   "metadata": {},
   "outputs": [
    {
     "name": "stdout",
     "output_type": "stream",
     "text": [
      "H\n",
      "e\n",
      "l\n",
      "l\n",
      "o\n"
     ]
    }
   ],
   "source": [
    "for char in \"Hello\":\n",
    "    print(char)"
   ]
  },
  {
   "cell_type": "code",
   "execution_count": 23,
   "id": "fae8186c-f0be-43dc-b3d6-033369f16a31",
   "metadata": {},
   "outputs": [
    {
     "name": "stdout",
     "output_type": "stream",
     "text": [
      "15\n"
     ]
    }
   ],
   "source": [
    "l=[1,2,3,4,5]\n",
    "sum=0\n",
    "for i in range(len(l)):\n",
    "    sum=sum+l[i]\n",
    "print(sum)"
   ]
  },
  {
   "cell_type": "code",
   "execution_count": 24,
   "id": "d8bdffdd-501f-43a8-9e99-c37bdb1f4790",
   "metadata": {},
   "outputs": [
    {
     "name": "stdout",
     "output_type": "stream",
     "text": [
      "1\n",
      "2\n",
      "3\n",
      "4\n",
      "5\n"
     ]
    }
   ],
   "source": [
    "i=1\n",
    "while i<6:\n",
    "    print(i)\n",
    "    i=i+1"
   ]
  },
  {
   "cell_type": "code",
   "execution_count": 28,
   "id": "6e6890b0-212e-41bf-b910-1b8c23e1751a",
   "metadata": {},
   "outputs": [
    {
     "name": "stdin",
     "output_type": "stream",
     "text": [
      "Type quit if you wanna stop df\n",
      "Type quit if you wanna stop quit\n"
     ]
    }
   ],
   "source": [
    "ans=True\n",
    "while ans==True:\n",
    "    answ=input('Type quit if you wanna stop:')\n",
    "    if answ=='quit':\n",
    "        ans=False\n",
    "    \n"
   ]
  },
  {
   "cell_type": "code",
   "execution_count": 34,
   "id": "bf65b0c2-fd5c-412d-82b1-3e2bd88a62f4",
   "metadata": {},
   "outputs": [
    {
     "name": "stdout",
     "output_type": "stream",
     "text": [
      "* * *\n",
      "* * *\n",
      "* * *\n"
     ]
    }
   ],
   "source": [
    "for i in range(3):\n",
    "    for j in range(1):\n",
    "        print('*','*','*')"
   ]
  },
  {
   "cell_type": "code",
   "execution_count": 7,
   "id": "cf89970f-2e21-436c-a63c-a16365bff4c5",
   "metadata": {},
   "outputs": [
    {
     "name": "stdout",
     "output_type": "stream",
     "text": [
      "0\n",
      "1\n",
      "2\n",
      "3\n",
      "4\n",
      "5\n"
     ]
    }
   ],
   "source": [
    "i=0\n",
    "while i<10:\n",
    "    print(i)\n",
    "    if i==5:\n",
    "        break\n",
    "    i=i+1"
   ]
  },
  {
   "cell_type": "code",
   "execution_count": 8,
   "id": "7fcc4a7d-12c4-46ca-b5ff-02983deb5816",
   "metadata": {},
   "outputs": [
    {
     "name": "stdout",
     "output_type": "stream",
     "text": [
      "1\n",
      "3\n",
      "5\n",
      "7\n",
      "9\n"
     ]
    }
   ],
   "source": [
    "for i in range(10):\n",
    "    if i%2==0:\n",
    "        continue\n",
    "    if i%2!=0:\n",
    "        print(i)"
   ]
  },
  {
   "cell_type": "markdown",
   "id": "856bd484-9e88-414c-a678-a874cd4ed1ce",
   "metadata": {},
   "source": [
    "#FUNCTIONS"
   ]
  },
  {
   "cell_type": "code",
   "execution_count": 9,
   "id": "d0a6c98c-79f2-41f6-96fe-02ca1cd2b729",
   "metadata": {},
   "outputs": [],
   "source": [
    "def greet():\n",
    "    print('Hello World!')"
   ]
  },
  {
   "cell_type": "code",
   "execution_count": 10,
   "id": "2a1b8984-553a-404a-9d9a-c6639a644f99",
   "metadata": {},
   "outputs": [
    {
     "name": "stdout",
     "output_type": "stream",
     "text": [
      "Hello World!\n"
     ]
    }
   ],
   "source": [
    "greet()"
   ]
  },
  {
   "cell_type": "code",
   "execution_count": 11,
   "id": "48b35aa1-4306-45f6-aac0-3356cf3ed375",
   "metadata": {},
   "outputs": [],
   "source": [
    "def square(i):\n",
    "    return i**2\n",
    "    \n",
    "    "
   ]
  },
  {
   "cell_type": "code",
   "execution_count": 12,
   "id": "51bf9a79-79d0-49a8-b830-8dd9c8c78a9a",
   "metadata": {},
   "outputs": [
    {
     "data": {
      "text/plain": [
       "4"
      ]
     },
     "execution_count": 12,
     "metadata": {},
     "output_type": "execute_result"
    }
   ],
   "source": [
    "square(2)"
   ]
  },
  {
   "cell_type": "code",
   "execution_count": 13,
   "id": "d3027376-0b6f-4205-89d6-845b9c2c7e3c",
   "metadata": {},
   "outputs": [],
   "source": [
    "def add(i,j):\n",
    "    return i+j"
   ]
  },
  {
   "cell_type": "code",
   "execution_count": 14,
   "id": "9c174946-4c75-4a9a-95f5-0f7c84f95610",
   "metadata": {},
   "outputs": [
    {
     "data": {
      "text/plain": [
       "11"
      ]
     },
     "execution_count": 14,
     "metadata": {},
     "output_type": "execute_result"
    }
   ],
   "source": [
    "add(3,8)"
   ]
  },
  {
   "cell_type": "code",
   "execution_count": 15,
   "id": "2bc3ed65-cfba-4a33-b40a-eb0b574a101d",
   "metadata": {},
   "outputs": [],
   "source": [
    "def is_even(i):\n",
    "    boolean = True\n",
    "    if i%2==0:\n",
    "        return boolean\n",
    "    else:\n",
    "        boolean = False\n",
    "        return boolean"
   ]
  },
  {
   "cell_type": "code",
   "execution_count": 16,
   "id": "ca6fa957-4c8a-489a-94ce-58f729db1d66",
   "metadata": {},
   "outputs": [
    {
     "data": {
      "text/plain": [
       "False"
      ]
     },
     "execution_count": 16,
     "metadata": {},
     "output_type": "execute_result"
    }
   ],
   "source": [
    "is_even(3)"
   ]
  },
  {
   "cell_type": "code",
   "execution_count": 17,
   "id": "2422fa64-044d-4c4f-be20-5e4b7045cc88",
   "metadata": {},
   "outputs": [
    {
     "ename": "SyntaxError",
     "evalue": "invalid syntax (2181047081.py, line 1)",
     "output_type": "error",
     "traceback": [
      "\u001b[1;36m  Cell \u001b[1;32mIn[17], line 1\u001b[1;36m\u001b[0m\n\u001b[1;33m    def null(0):\u001b[0m\n\u001b[1;37m             ^\u001b[0m\n\u001b[1;31mSyntaxError\u001b[0m\u001b[1;31m:\u001b[0m invalid syntax\n"
     ]
    }
   ],
   "source": [
    "def null(0):\n",
    "    print(0)"
   ]
  },
  {
   "cell_type": "code",
   "execution_count": 21,
   "id": "8353f3c7-8c50-4be3-b64b-3065bcc09f0d",
   "metadata": {},
   "outputs": [],
   "source": [
    "def greet(name='Macado',message='Hello'):\n",
    "    print(name,message)"
   ]
  },
  {
   "cell_type": "code",
   "execution_count": 25,
   "id": "e3189029-65f2-4110-bef9-6f35cccb364f",
   "metadata": {},
   "outputs": [
    {
     "name": "stdout",
     "output_type": "stream",
     "text": [
      "Macado Hello\n"
     ]
    }
   ],
   "source": [
    "greet('Macado','Hello')"
   ]
  },
  {
   "cell_type": "code",
   "execution_count": 34,
   "id": "31059bc3-981d-4da2-a794-def0150e2f04",
   "metadata": {},
   "outputs": [
    {
     "name": "stdout",
     "output_type": "stream",
     "text": [
      "18\n"
     ]
    }
   ],
   "source": [
    "multiply = lambda a, b: a * b\n",
    "print(multiply(3,6))"
   ]
  },
  {
   "cell_type": "code",
   "execution_count": 35,
   "id": "e20dc69e-b75a-435c-b278-935cd1049121",
   "metadata": {},
   "outputs": [
    {
     "name": "stdout",
     "output_type": "stream",
     "text": [
      "[2, 4]\n"
     ]
    }
   ],
   "source": [
    "a =[1,2,3,4,5]\n",
    "b =list(filter(lambda x: x % 2 == 0, a))\n",
    "print(b)\n"
   ]
  },
  {
   "cell_type": "code",
   "execution_count": 38,
   "id": "0d48f50b-63b9-4d34-a83d-912686c3c46f",
   "metadata": {},
   "outputs": [
    {
     "name": "stdout",
     "output_type": "stream",
     "text": [
      "[1, 4, 9, 16, 25]\n"
     ]
    }
   ],
   "source": [
    "n=[1,2,3,4,5]\n",
    "\n",
    "square = list(map(lambda x: x**2, n))\n",
    "\n",
    "print(square)\n"
   ]
  },
  {
   "cell_type": "code",
   "execution_count": 39,
   "id": "631ded4a-9dea-4153-b88b-9039005d4831",
   "metadata": {},
   "outputs": [],
   "source": [
    "def factorial(n):\n",
    "    j=1\n",
    "    for i in range(n):\n",
    "        j=j*n\n",
    "        n=n-1\n",
    "    return j"
   ]
  },
  {
   "cell_type": "code",
   "execution_count": 44,
   "id": "3df99163-1550-4376-9010-77a43bd1daa4",
   "metadata": {},
   "outputs": [
    {
     "data": {
      "text/plain": [
       "720"
      ]
     },
     "execution_count": 44,
     "metadata": {},
     "output_type": "execute_result"
    }
   ],
   "source": [
    "factorial(6)"
   ]
  },
  {
   "cell_type": "markdown",
   "id": "aa3dad95-0386-4c49-8812-894111e710ec",
   "metadata": {},
   "source": [
    "DATA STRUCTURES"
   ]
  },
  {
   "cell_type": "code",
   "execution_count": 46,
   "id": "bcf7cd02-a93b-46d7-945d-58f200bce6d4",
   "metadata": {},
   "outputs": [
    {
     "name": "stdout",
     "output_type": "stream",
     "text": [
      "Mango\n"
     ]
    }
   ],
   "source": [
    "fruits=['Apple','Mango','Potato']\n",
    "print(fruits[1])"
   ]
  },
  {
   "cell_type": "code",
   "execution_count": 72,
   "id": "3804e182-ddd3-4101-8315-9d6db000932d",
   "metadata": {},
   "outputs": [
    {
     "data": {
      "text/plain": [
       "['Apple', 'Mango', 'Potato', 'Grape']"
      ]
     },
     "execution_count": 72,
     "metadata": {},
     "output_type": "execute_result"
    }
   ],
   "source": [
    "fruits.append('Grape')\n",
    "fruits"
   ]
  },
  {
   "cell_type": "code",
   "execution_count": 51,
   "id": "482e3ff6-25d6-4605-8681-a41b0db32022",
   "metadata": {},
   "outputs": [
    {
     "data": {
      "text/plain": [
       "(1, 2, 3)"
      ]
     },
     "execution_count": 51,
     "metadata": {},
     "output_type": "execute_result"
    }
   ],
   "source": [
    "point=(1,2,3)\n",
    "point"
   ]
  },
  {
   "cell_type": "code",
   "execution_count": 56,
   "id": "8a701ea0-47be-4b8c-bb4d-ddd08fe0cd97",
   "metadata": {},
   "outputs": [
    {
     "data": {
      "text/plain": [
       "{'name': 'Traore', 'age': 20, 'city': 'Abidjan'}"
      ]
     },
     "execution_count": 56,
     "metadata": {},
     "output_type": "execute_result"
    }
   ],
   "source": [
    "Dictionary = { 'name':'Traore', 'age':20, 'city':'Abidjan'}\n",
    "Dictionary"
   ]
  },
  {
   "cell_type": "code",
   "execution_count": 57,
   "id": "bb046489-3d4b-417e-96ae-62152e5b2a0b",
   "metadata": {},
   "outputs": [
    {
     "data": {
      "text/plain": [
       "20"
      ]
     },
     "execution_count": 57,
     "metadata": {},
     "output_type": "execute_result"
    }
   ],
   "source": [
    "Dictionary['age']"
   ]
  },
  {
   "cell_type": "code",
   "execution_count": 60,
   "id": "86a39ec6-0f25-476c-80ec-76eddb1eb79e",
   "metadata": {},
   "outputs": [
    {
     "data": {
      "text/plain": [
       "{'name': 'Traore', 'age': 20, 'city': 'Abidjan', 'Job': 'Student'}"
      ]
     },
     "execution_count": 60,
     "metadata": {},
     "output_type": "execute_result"
    }
   ],
   "source": [
    "Dictionary['Job']='Student'\n",
    "Dictionary"
   ]
  },
  {
   "cell_type": "code",
   "execution_count": 63,
   "id": "cf3aa126-36ed-491d-8565-ca701acebde2",
   "metadata": {},
   "outputs": [
    {
     "data": {
      "text/plain": [
       "{1, 2, 3, 4, 5}"
      ]
     },
     "execution_count": 63,
     "metadata": {},
     "output_type": "execute_result"
    }
   ],
   "source": [
    "a=[1,2,2,3,4,4,5]\n",
    "c_a=set(a)\n",
    "c_a"
   ]
  },
  {
   "cell_type": "code",
   "execution_count": 79,
   "id": "b1755e4b-a1bd-4e0e-804c-bc578b5487c2",
   "metadata": {},
   "outputs": [
    {
     "name": "stdout",
     "output_type": "stream",
     "text": [
      "['Apple', 'Mango']\n"
     ]
    }
   ],
   "source": [
    "fruits=['Apple','Mango','Potato']\n",
    "fruits.pop()\n",
    "print(fruits)"
   ]
  },
  {
   "cell_type": "code",
   "execution_count": 82,
   "id": "496e596b-3297-4b98-9588-b9dabab1fd5a",
   "metadata": {},
   "outputs": [
    {
     "data": {
      "text/plain": [
       "dict_keys(['name', 'age', 'city', 'Job'])"
      ]
     },
     "execution_count": 82,
     "metadata": {},
     "output_type": "execute_result"
    }
   ],
   "source": [
    "Dictionary.keys()"
   ]
  },
  {
   "cell_type": "code",
   "execution_count": 86,
   "id": "ae796bf6-73a0-4c72-ba99-ad9740f75d64",
   "metadata": {},
   "outputs": [
    {
     "data": {
      "text/plain": [
       "{2, 3}"
      ]
     },
     "execution_count": 86,
     "metadata": {},
     "output_type": "execute_result"
    }
   ],
   "source": [
    "a={1,2,3}\n",
    "b={2,3,4}\n",
    "a.intersection(b)"
   ]
  },
  {
   "cell_type": "markdown",
   "id": "2bc9bd76-048c-4830-90d2-00fb9eaeabc4",
   "metadata": {},
   "source": [
    "<h1>OBJECT ORIENTED PROGRAMMING</h1>\n",
    "<b>Classes and objects</b>"
   ]
  },
  {
   "cell_type": "code",
   "execution_count": 2,
   "id": "80f54354-5132-4813-89aa-a54a28987999",
   "metadata": {},
   "outputs": [],
   "source": [
    "class Car():\n",
    "    def __init__(self,color,brand):\n",
    "        self.color=color\n",
    "        self.brand=brand\n",
    "    def describe(self):\n",
    "        print(f'This car is {self.color} {self.brand}')\n",
    "        "
   ]
  },
  {
   "cell_type": "code",
   "execution_count": 115,
   "id": "2f402090-52d6-493e-9bbc-53283330843b",
   "metadata": {},
   "outputs": [
    {
     "name": "stdout",
     "output_type": "stream",
     "text": [
      "This car is red Toyota\n"
     ]
    }
   ],
   "source": [
    "car1.describe"
   ]
  },
  {
   "cell_type": "code",
   "execution_count": 116,
   "id": "993ceaeb-87f9-4b20-b747-d7c48b2147e8",
   "metadata": {},
   "outputs": [
    {
     "name": "stdout",
     "output_type": "stream",
     "text": [
      "This car is red Toyota\n"
     ]
    }
   ],
   "source": [
    "car1= Car(\"red\",\"Toyota\")\n",
    "car1.describe()"
   ]
  },
  {
   "cell_type": "code",
   "execution_count": 117,
   "id": "e87919df-d271-4f78-81f5-0ee69424024b",
   "metadata": {},
   "outputs": [
    {
     "name": "stdout",
     "output_type": "stream",
     "text": [
      "This car is blue Mercedes\n"
     ]
    }
   ],
   "source": [
    "car2=Car('blue',\"Mercedes\")\n",
    "car2.describe()"
   ]
  },
  {
   "cell_type": "code",
   "execution_count": 118,
   "id": "27d2b852-75c2-4205-87c8-29bcf0692b7e",
   "metadata": {},
   "outputs": [],
   "source": [
    "car1.speed=100"
   ]
  },
  {
   "cell_type": "code",
   "execution_count": 15,
   "id": "e9d3561d-1fd6-4c19-a963-c52edf519665",
   "metadata": {},
   "outputs": [],
   "source": [
    "class dog:\n",
    "    def __init__(self,name,age):\n",
    "        self.name= name\n",
    "        self.age= age\n",
    "    def bark(self):\n",
    "        print(\"Woof\")"
   ]
  },
  {
   "cell_type": "code",
   "execution_count": 16,
   "id": "48668b89-15d5-41fd-98c0-5ae5bd813a66",
   "metadata": {},
   "outputs": [
    {
     "name": "stdout",
     "output_type": "stream",
     "text": [
      "Rantanplan\n",
      "3\n",
      "Woof\n"
     ]
    }
   ],
   "source": [
    "Dog=dog(\"Rantanplan\",3)\n",
    "print(Dog.name)\n",
    "print(Dog.age)\n",
    "Dog.bark()"
   ]
  },
  {
   "cell_type": "markdown",
   "id": "7d048e89-116f-4484-9d0c-4f1aaacfd645",
   "metadata": {},
   "source": [
    "<b>Inheritance</b>"
   ]
  },
  {
   "cell_type": "code",
   "execution_count": 37,
   "id": "7419e9ff-650c-4f60-96e9-25f87556c973",
   "metadata": {},
   "outputs": [],
   "source": [
    "class Animal:\n",
    "    def __init__(self,name,age):\n",
    "        self.name=name\n",
    "        self.age = age\n",
    "    def speak(self):\n",
    "        print(\"Generic sound\")"
   ]
  },
  {
   "cell_type": "code",
   "execution_count": 43,
   "id": "f62247c8-e7fe-4b9b-8944-09554d2732da",
   "metadata": {},
   "outputs": [],
   "source": [
    "class Dog(Animal):\n",
    "    def __init__(self,name,age,breed):\n",
    "        super().__init__(name,age)\n",
    "        self.breed=breed\n",
    "    def speak(self):\n",
    "        print(\"Woof\")"
   ]
  },
  {
   "cell_type": "code",
   "execution_count": 46,
   "id": "ce3c83a9-016d-4817-985c-7a3f510b6261",
   "metadata": {},
   "outputs": [
    {
     "name": "stdout",
     "output_type": "stream",
     "text": [
      "Rex\n",
      "5\n",
      "Doberman\n",
      "Woof\n"
     ]
    }
   ],
   "source": [
    "dog=Dog(\"Rex\",5,\"Doberman\")\n",
    "print(dog.name)\n",
    "print(dog.age)\n",
    "print(dog.breed)\n",
    "dog.speak()"
   ]
  },
  {
   "cell_type": "code",
   "execution_count": 35,
   "id": "aa071e3a-0772-4edb-ae0e-138114b798f2",
   "metadata": {},
   "outputs": [
    {
     "name": "stdout",
     "output_type": "stream",
     "text": [
      "Meow\n"
     ]
    }
   ],
   "source": [
    "class Cat(Animal):\n",
    "    def speak(self):\n",
    "        print(\"Meow\")\n",
    "\n",
    "cat=Cat()\n",
    "cat.speak()"
   ]
  },
  {
   "cell_type": "code",
   "execution_count": 49,
   "id": "87244d83-4042-4189-894b-8ba7e1adcc91",
   "metadata": {},
   "outputs": [
    {
     "name": "stdout",
     "output_type": "stream",
     "text": [
      "Baby Woof!\n"
     ]
    }
   ],
   "source": [
    "class BabyDog(Dog):\n",
    "    def speak(self):\n",
    "        print(\"Baby Woof!\")\n",
    "\n",
    "BabyD=BabyDog(\"Husky\",1,\"Caniche\")\n",
    "BabyD.speak()"
   ]
  },
  {
   "cell_type": "code",
   "execution_count": 64,
   "id": "592fc8a5-1aa4-4d96-bf82-0dc5531c8ce8",
   "metadata": {},
   "outputs": [],
   "source": [
    "class Robot:\n",
    "    def __init__(self,model, **kwargs):\n",
    "        super().__init__(**kwargs)\n",
    "        self.model=model\n",
    "    "
   ]
  },
  {
   "cell_type": "code",
   "execution_count": 65,
   "id": "505d7d9d-6a82-49d7-b51f-9cfbc26261e9",
   "metadata": {},
   "outputs": [],
   "source": [
    "class Pet:\n",
    "    def __init__(self,name, race,**kwargs):\n",
    "        super().__init__(**kwargs)\n",
    "        self.name=name\n",
    "        self.race=race"
   ]
  },
  {
   "cell_type": "code",
   "execution_count": 66,
   "id": "a77912ce-fb22-4987-b700-21e1f128cb47",
   "metadata": {},
   "outputs": [],
   "source": [
    "class RoboDog(Robot,Pet):\n",
    "    def __init__(self,name,race,model):\n",
    "        super().__init__(name=name,race=race,model=model)\n",
    "        print(\"RoboDog initialized!\")"
   ]
  },
  {
   "cell_type": "code",
   "execution_count": 67,
   "id": "781cbfc8-c82d-46af-9c76-99be5add96be",
   "metadata": {},
   "outputs": [
    {
     "name": "stdout",
     "output_type": "stream",
     "text": [
      "RoboDog initialized!\n"
     ]
    }
   ],
   "source": [
    "Rob=RoboDog(\"T-Rex\",\"Doberman\",\"V6\")\n"
   ]
  },
  {
   "cell_type": "markdown",
   "id": "179e2578-cc07-43d0-a4f0-e13dde256f59",
   "metadata": {},
   "source": [
    "<b>Polymorphism and Encapsulation</b>"
   ]
  },
  {
   "cell_type": "code",
   "execution_count": 79,
   "id": "285d4fe3-5fc8-46e5-ba66-6ae09a51c528",
   "metadata": {},
   "outputs": [],
   "source": [
    "from abc import ABC, abstractmethod\n",
    "import math\n",
    "class Shape(ABC):\n",
    "    def area(self):\n",
    "        pass"
   ]
  },
  {
   "cell_type": "code",
   "execution_count": 102,
   "id": "f2a4d1d9-2a2f-483b-a5a9-03ec547e3c64",
   "metadata": {},
   "outputs": [],
   "source": [
    "class Rectangle(Shape):\n",
    "    def __init__(self,w,l,nature='Rectangle'):\n",
    "        self.nature=nature\n",
    "        self.__w=w\n",
    "        self.__l=l\n",
    "    def area(self):\n",
    "        return self.__w*self.__l\n",
    "    \n",
    "    def get_width(self):\n",
    "        return self.__w\n",
    "    \n",
    "    def set_width(self,w):\n",
    "        return self.__w==w \n",
    "\n",
    "    def get_length(self):\n",
    "        return self.__l\n",
    "    \n",
    "    def set_length(self,l):\n",
    "        return self.__l==l \n",
    "\n"
   ]
  },
  {
   "cell_type": "code",
   "execution_count": 97,
   "id": "5847856e-0504-440f-848d-14a06ac87368",
   "metadata": {},
   "outputs": [],
   "source": [
    "class Circle(Shape):\n",
    "    def __init__(self,r,nature='Circle'):\n",
    "        self.nature=nature\n",
    "        self.r=r\n",
    "    def area(self):\n",
    "        return math.pi*((self.r)**2)"
   ]
  },
  {
   "cell_type": "code",
   "execution_count": 98,
   "id": "24b2165b-a026-4cb6-886c-e3005a6f879e",
   "metadata": {},
   "outputs": [],
   "source": [
    "def print_area(Shape):\n",
    "    print(\"The area of the\",Shape.nature,\" is\",Shape.area())"
   ]
  },
  {
   "cell_type": "code",
   "execution_count": 99,
   "id": "1dee51df-85a7-4146-98e8-47c0fda47767",
   "metadata": {},
   "outputs": [
    {
     "name": "stdout",
     "output_type": "stream",
     "text": [
      "The area of the Rectangle  is 12\n",
      "The area of the Circle  is 28.274333882308138\n"
     ]
    }
   ],
   "source": [
    "rect=Rectangle(3,4)\n",
    "cir=Circle(3)\n",
    "print_area(rect)\n",
    "print_area(cir)"
   ]
  },
  {
   "cell_type": "code",
   "execution_count": 103,
   "id": "e4c6a687-a021-4acd-80a7-c13726bf1bc2",
   "metadata": {},
   "outputs": [
    {
     "ename": "AttributeError",
     "evalue": "'Rectangle' object has no attribute '__width'",
     "output_type": "error",
     "traceback": [
      "\u001b[1;31m---------------------------------------------------------------------------\u001b[0m",
      "\u001b[1;31mAttributeError\u001b[0m                            Traceback (most recent call last)",
      "Cell \u001b[1;32mIn[103], line 1\u001b[0m\n\u001b[1;32m----> 1\u001b[0m rect\u001b[38;5;241m.\u001b[39m__width\n",
      "\u001b[1;31mAttributeError\u001b[0m: 'Rectangle' object has no attribute '__width'"
     ]
    }
   ],
   "source": [
    "rect.__width"
   ]
  },
  {
   "cell_type": "code",
   "execution_count": 124,
   "id": "07a102b2-ac4a-4d40-b0e3-245451423539",
   "metadata": {},
   "outputs": [],
   "source": [
    "class BankAccount:\n",
    "    def __init__(self,balance):\n",
    "        self.__balance=balance\n",
    "    def deposit(self,amount):\n",
    "        self.__balance=amount+self.__balance\n",
    "        print(\"You deposit $\", amount, \". Now you have\", self.__balance)\n",
    "    def withdraw(self,amount):\n",
    "        if amount>self.__balance:\n",
    "            print(\"The amount entered is superior to the balance, Retry\")\n",
    "        elif amount <= 0:\n",
    "            print(\"Invalid withdrawal amount.\")\n",
    "        else:\n",
    "            self.__balance -= amount\n",
    "            print(f\"Withdrew ${amount}. Remaining balance: ${self.__balance}\")\n",
    "\n",
    "    def get_balance(self):\n",
    "        return self.__balance"
   ]
  },
  {
   "cell_type": "code",
   "execution_count": 129,
   "id": "829f9e08-ba31-44a5-b046-1768c3b9f695",
   "metadata": {},
   "outputs": [
    {
     "data": {
      "text/plain": [
       "100"
      ]
     },
     "execution_count": 129,
     "metadata": {},
     "output_type": "execute_result"
    }
   ],
   "source": [
    "Account=BankAccount(100)\n",
    "Account.get_balance()"
   ]
  },
  {
   "cell_type": "code",
   "execution_count": 130,
   "id": "422261eb-43ab-4b16-a607-2cc85bbcf752",
   "metadata": {},
   "outputs": [
    {
     "name": "stdout",
     "output_type": "stream",
     "text": [
      "Withdrew $50. Remaining balance: $50\n"
     ]
    }
   ],
   "source": [
    "Account.withdraw(50)"
   ]
  },
  {
   "cell_type": "code",
   "execution_count": 131,
   "id": "b08168be-d331-46c2-ab8e-f3d522d5fb40",
   "metadata": {},
   "outputs": [
    {
     "name": "stdout",
     "output_type": "stream",
     "text": [
      "The amount entered is superior to the balance, Retry\n"
     ]
    }
   ],
   "source": [
    "Account.withdraw(60)"
   ]
  },
  {
   "cell_type": "code",
   "execution_count": 132,
   "id": "75becd51-6574-4a40-9bef-c52b7ae358b6",
   "metadata": {},
   "outputs": [
    {
     "name": "stdout",
     "output_type": "stream",
     "text": [
      "You deposit $ 30 . Now you have 80\n"
     ]
    }
   ],
   "source": [
    "Account.deposit(30)"
   ]
  },
  {
   "cell_type": "code",
   "execution_count": 133,
   "id": "570477cc-6d24-45de-a4c7-d74992a86ad7",
   "metadata": {},
   "outputs": [
    {
     "name": "stdout",
     "output_type": "stream",
     "text": [
      "You deposit $ 20 . Now you have 100\n"
     ]
    }
   ],
   "source": [
    "Account.deposit(20)"
   ]
  },
  {
   "cell_type": "code",
   "execution_count": null,
   "id": "f3033793-0165-4933-8a3f-7f9eec005023",
   "metadata": {},
   "outputs": [],
   "source": []
  }
 ],
 "metadata": {
  "kernelspec": {
   "display_name": "Python 3 (ipykernel)",
   "language": "python",
   "name": "python3"
  },
  "language_info": {
   "codemirror_mode": {
    "name": "ipython",
    "version": 3
   },
   "file_extension": ".py",
   "mimetype": "text/x-python",
   "name": "python",
   "nbconvert_exporter": "python",
   "pygments_lexer": "ipython3",
   "version": "3.13.5"
  }
 },
 "nbformat": 4,
 "nbformat_minor": 5
}
